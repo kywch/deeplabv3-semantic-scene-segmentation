{
  "nbformat": 4,
  "nbformat_minor": 0,
  "metadata": {
    "accelerator": "GPU",
    "colab": {
      "name": "evaluation.ipynb",
      "provenance": [],
      "include_colab_link": true
    },
    "kernelspec": {
      "display_name": "Python 3",
      "language": "python",
      "name": "python3"
    },
    "language_info": {
      "codemirror_mode": {
        "name": "ipython",
        "version": 3
      },
      "file_extension": ".py",
      "mimetype": "text/x-python",
      "name": "python",
      "nbconvert_exporter": "python",
      "pygments_lexer": "ipython3",
      "version": "3.7.3"
    }
  },
  "cells": [
    {
      "cell_type": "markdown",
      "metadata": {
        "id": "view-in-github",
        "colab_type": "text"
      },
      "source": [
        "<a href=\"https://colab.research.google.com/github/kywch/deeplabv3-semantic-scene-segmentation/blob/master/Google-colab_scene_segmentation.ipynb\" target=\"_parent\"><img src=\"https://colab.research.google.com/assets/colab-badge.svg\" alt=\"Open In Colab\"/></a>"
      ]
    },
    {
      "cell_type": "code",
      "metadata": {
        "id": "CuCJ8GTxa0Kr",
        "colab_type": "code",
        "outputId": "2715a9e9-cb1e-4dfc-ab9f-3d10573b0774",
        "colab": {
          "base_uri": "https://localhost:8080/",
          "height": 51
        }
      },
      "source": [
        "# check the pytorch installation\n",
        "import torch\n",
        "print(torch.cuda.is_available())       # Should be True\n",
        "print(torch.backends.cudnn.enabled)    # Should be True"
      ],
      "execution_count": 1,
      "outputs": [
        {
          "output_type": "stream",
          "text": [
            "True\n",
            "True\n"
          ],
          "name": "stdout"
        }
      ]
    },
    {
      "cell_type": "code",
      "metadata": {
        "colab_type": "code",
        "id": "LKclAdidKjyQ",
        "colab": {}
      },
      "source": [
        "import torch.utils.data\n",
        "import torch.nn as nn\n",
        "from torch.autograd import Variable\n",
        "import torch.optim as optim\n",
        "import torch.nn.functional as F\n",
        "import os\n",
        "import csv\n",
        "import numpy as np\n",
        "import pickle\n",
        "import matplotlib\n",
        "matplotlib.use(\"Agg\")\n",
        "import matplotlib.pyplot as plt\n",
        "import cv2"
      ],
      "execution_count": 0,
      "outputs": []
    },
    {
      "cell_type": "markdown",
      "metadata": {
        "id": "zznhjiu4LXLR",
        "colab_type": "text"
      },
      "source": [
        "### Cloning the github repository to get the necessary files\n"
      ]
    },
    {
      "cell_type": "code",
      "metadata": {
        "id": "Fglsx-NlLWJT",
        "colab_type": "code",
        "colab": {
          "base_uri": "https://localhost:8080/",
          "height": 154
        },
        "outputId": "d0c78733-d715-4c4d-c329-56bac29f43f7"
      },
      "source": [
        "!git clone https://github.com/kywch/deeplabv3-semantic-scene-segmentation.git"
      ],
      "execution_count": 4,
      "outputs": [
        {
          "output_type": "stream",
          "text": [
            "Cloning into 'deeplabv3-semantic-scene-segmentation'...\n",
            "remote: Enumerating objects: 71, done.\u001b[K\n",
            "remote: Counting objects: 100% (71/71), done.\u001b[K\n",
            "remote: Compressing objects: 100% (60/60), done.\u001b[K\n",
            "remote: Total 107 (delta 30), reused 32 (delta 10), pack-reused 36\u001b[K\n",
            "Receiving objects: 100% (107/107), 258.72 MiB | 37.03 MiB/s, done.\n",
            "Resolving deltas: 100% (40/40), done.\n",
            "Checking out files: 100% (25/25), done.\n"
          ],
          "name": "stdout"
        }
      ]
    },
    {
      "cell_type": "code",
      "metadata": {
        "id": "hGRogzrMMBUZ",
        "colab_type": "code",
        "colab": {
          "base_uri": "https://localhost:8080/",
          "height": 34
        },
        "outputId": "a5f429fb-e7a9-41ec-ec52-471a1184a087"
      },
      "source": [
        "# git repo files are placed under `deeplabv3-semantic-scene-segmentation\n",
        "!ls"
      ],
      "execution_count": 5,
      "outputs": [
        {
          "output_type": "stream",
          "text": [
            "deeplabv3-semantic-scene-segmentation  sample_data\n"
          ],
          "name": "stdout"
        }
      ]
    },
    {
      "cell_type": "code",
      "metadata": {
        "id": "48TutPhqa0K6",
        "colab_type": "code",
        "colab": {}
      },
      "source": [
        "# loading the files from git repo\n",
        "import sys\n",
        "\n",
        "sys.path.append(\"deeplabv3-semantic-scene-segmentation/deeplabv3\")\n",
        "sys.path.append(\"deeplabv3-semantic-scene-segmentation/deeplabv3/model\")\n",
        "from deeplabv3 import DeepLabV3\n",
        "\n",
        "sys.path.append(\"deeplabv3-semantic-scene-segmentation/deeplabv3/utils\")\n",
        "from utils import label_img_to_color\n"
      ],
      "execution_count": 0,
      "outputs": []
    },
    {
      "cell_type": "markdown",
      "metadata": {
        "id": "60E42uOKMrM1",
        "colab_type": "text"
      },
      "source": [
        "### Download the images to process"
      ]
    },
    {
      "cell_type": "code",
      "metadata": {
        "id": "Vu495A1pMz49",
        "colab_type": "code",
        "colab": {
          "base_uri": "https://localhost:8080/",
          "height": 448
        },
        "outputId": "3c45cdbd-9dc7-40be-ffbb-aa2089440460"
      },
      "source": [
        "!wget https://www.dropbox.com/s/s5pmkr2gqh8dx5p/images307.zip"
      ],
      "execution_count": 9,
      "outputs": [
        {
          "output_type": "stream",
          "text": [
            "--2020-05-29 02:17:44--  https://www.dropbox.com/s/s5pmkr2gqh8dx5p/images307.zip\n",
            "Resolving www.dropbox.com (www.dropbox.com)... 162.125.65.1, 2620:100:6021:1::a27d:4101\n",
            "Connecting to www.dropbox.com (www.dropbox.com)|162.125.65.1|:443... connected.\n",
            "HTTP request sent, awaiting response... 301 Moved Permanently\n",
            "Location: /s/raw/s5pmkr2gqh8dx5p/images307.zip [following]\n",
            "--2020-05-29 02:17:45--  https://www.dropbox.com/s/raw/s5pmkr2gqh8dx5p/images307.zip\n",
            "Reusing existing connection to www.dropbox.com:443.\n",
            "HTTP request sent, awaiting response... 302 Found\n",
            "Location: https://uc93ef772b23135463505e21f901.dl.dropboxusercontent.com/cd/0/inline/A4kBcD1Pj6tPUDi7ynK_u5XfuRP6BIoGe5AkLdbKIPQQbyIVYS5jSUxoW747scNidE1UfkHCfoga42ustxOtaOvnjGk_cJZ9BZzKKBB2yfzM6uSeH_FCQlsmTinppieLrgk/file# [following]\n",
            "--2020-05-29 02:17:45--  https://uc93ef772b23135463505e21f901.dl.dropboxusercontent.com/cd/0/inline/A4kBcD1Pj6tPUDi7ynK_u5XfuRP6BIoGe5AkLdbKIPQQbyIVYS5jSUxoW747scNidE1UfkHCfoga42ustxOtaOvnjGk_cJZ9BZzKKBB2yfzM6uSeH_FCQlsmTinppieLrgk/file\n",
            "Resolving uc93ef772b23135463505e21f901.dl.dropboxusercontent.com (uc93ef772b23135463505e21f901.dl.dropboxusercontent.com)... 162.125.65.6, 2620:100:6021:6::a27d:4106\n",
            "Connecting to uc93ef772b23135463505e21f901.dl.dropboxusercontent.com (uc93ef772b23135463505e21f901.dl.dropboxusercontent.com)|162.125.65.6|:443... connected.\n",
            "HTTP request sent, awaiting response... 302 FOUND\n",
            "Location: /cd/0/inline2/A4lHGgYWoYyKLrh_lzmNfCBBHSTuKD5Jr8I_hFZnjFdBefXektq0ErthaEXCyNWIgb6x8o8qeonSSs2ANp0KaJk-Je9-PRkwOJNs1NN7Zlb90pDGC7KHhskwkAEVBj828j2Br2prkYwKPug0vt3oKvj7mEmW_NccUqz3fLpVlnQbi5kxD1Vgra0cdkb9waD0oVYPsiVC-n1NW4wLYqmsbRqrREfqwy1LYCUeuwY30epXt_H_LRl9gv8gosb229He3prMqRQcjtFjqnw32ohQ1mpmuTgIyzfeAka5Lp0YcCpGEoHCwgttf9ZMdt3iDc9ybRLwyqHHp4hqruMWZMTe0sy79rAkQ7Z59XSLFpOhZDVncA/file [following]\n",
            "--2020-05-29 02:17:45--  https://uc93ef772b23135463505e21f901.dl.dropboxusercontent.com/cd/0/inline2/A4lHGgYWoYyKLrh_lzmNfCBBHSTuKD5Jr8I_hFZnjFdBefXektq0ErthaEXCyNWIgb6x8o8qeonSSs2ANp0KaJk-Je9-PRkwOJNs1NN7Zlb90pDGC7KHhskwkAEVBj828j2Br2prkYwKPug0vt3oKvj7mEmW_NccUqz3fLpVlnQbi5kxD1Vgra0cdkb9waD0oVYPsiVC-n1NW4wLYqmsbRqrREfqwy1LYCUeuwY30epXt_H_LRl9gv8gosb229He3prMqRQcjtFjqnw32ohQ1mpmuTgIyzfeAka5Lp0YcCpGEoHCwgttf9ZMdt3iDc9ybRLwyqHHp4hqruMWZMTe0sy79rAkQ7Z59XSLFpOhZDVncA/file\n",
            "Reusing existing connection to uc93ef772b23135463505e21f901.dl.dropboxusercontent.com:443.\n",
            "HTTP request sent, awaiting response... 200 OK\n",
            "Length: 102362764 (98M) [application/zip]\n",
            "Saving to: ‘images307.zip’\n",
            "\n",
            "images307.zip       100%[===================>]  97.62M  56.7MB/s    in 1.7s    \n",
            "\n",
            "2020-05-29 02:17:48 (56.7 MB/s) - ‘images307.zip’ saved [102362764/102362764]\n",
            "\n"
          ],
          "name": "stdout"
        }
      ]
    },
    {
      "cell_type": "code",
      "metadata": {
        "id": "RwCZFKmrOFz0",
        "colab_type": "code",
        "colab": {
          "base_uri": "https://localhost:8080/",
          "height": 34
        },
        "outputId": "1614dd2b-60b7-4668-94c2-39442f7f4123"
      },
      "source": [
        "#!ls\n",
        "!unzip -q images307.zip"
      ],
      "execution_count": 17,
      "outputs": [
        {
          "output_type": "stream",
          "text": [
            "replace images307/Amazing_Grace_086.jpg? [y]es, [n]o, [A]ll, [N]one, [r]ename: N\n"
          ],
          "name": "stdout"
        }
      ]
    },
    {
      "cell_type": "code",
      "metadata": {
        "id": "iD4-R5iba0K9",
        "colab_type": "code",
        "colab": {}
      },
      "source": [
        "lib_dir = 'deeplabv3-semantic-scene-segmentation/deeplabv3/'\n",
        "\n",
        "# Specify your output directory\n",
        "input_dir = \"images307\"\n",
        "output_dir = \"output\""
      ],
      "execution_count": 0,
      "outputs": []
    },
    {
      "cell_type": "code",
      "metadata": {
        "colab_type": "code",
        "id": "NmC-ZBGAK388",
        "outputId": "df714c40-6b8c-4bc6-94ab-9efe38e9f37f",
        "colab": {
          "base_uri": "https://localhost:8080/",
          "height": 34
        }
      },
      "source": [
        "network = DeepLabV3(\"eval_val\", project_dir=\"deeplabv3-semantic-scene-segmentation/deeplabv3\", \n",
        "                    pretrained_file=lib_dir+\"resnet18-5c106cde.pth\").cuda()"
      ],
      "execution_count": 19,
      "outputs": [
        {
          "output_type": "stream",
          "text": [
            "pretrained resnet, 18\n"
          ],
          "name": "stdout"
        }
      ]
    },
    {
      "cell_type": "code",
      "metadata": {
        "colab_type": "code",
        "id": "rmbM1O8WK7Tq",
        "outputId": "23d55ae9-a232-41b5-d0b6-2ea9b749d766",
        "colab": {
          "base_uri": "https://localhost:8080/",
          "height": 34
        }
      },
      "source": [
        "network.load_state_dict(torch.load(lib_dir+\"model_13_2_2_2_epoch_580.pth\"))"
      ],
      "execution_count": 20,
      "outputs": [
        {
          "output_type": "execute_result",
          "data": {
            "text/plain": [
              "<All keys matched successfully>"
            ]
          },
          "metadata": {
            "tags": []
          },
          "execution_count": 20
        }
      ]
    },
    {
      "cell_type": "code",
      "metadata": {
        "colab_type": "code",
        "id": "B9f4xZx6L7cG",
        "colab": {}
      },
      "source": [
        "class DatasetVal(torch.utils.data.Dataset):\n",
        "    def __init__(self, input_path, output_path):\n",
        "        self.img_dir = input_path\n",
        "        self.img_h = 1024\n",
        "        self.img_w = 2048\n",
        "        self.output_dir = output_path\n",
        "        if not os.path.exists(output_path):\n",
        "            os.makedirs(output_path)\n",
        "        self.debug_dir = output_path + '/debug/'\n",
        "        if not os.path.exists(self.debug_dir):\n",
        "            os.makedirs(self.debug_dir)\n",
        "        \n",
        "        self.examples = []\n",
        "        file_names = os.listdir(self.img_dir)\n",
        "        for file_name in file_names:\n",
        "            if file_name.lower().endswith(('.jpg', '.png', '.jpeg', '.BMP')):\n",
        "                img_id = file_name.split('.')[0]\n",
        "                img_path = self.img_dir + '/' + file_name\n",
        "                example = {}\n",
        "                example[\"img_path\"] = img_path\n",
        "                example[\"img_id\"] = img_id\n",
        "                self.examples.append(example)\n",
        "        #print(self.examples)\n",
        "\n",
        "        self.num_examples = len(self.examples)\n",
        "        print(str(self.num_examples) + \" images were identified from the input directory.\")\n",
        "        \n",
        "    def __getitem__(self, index):\n",
        "        example = self.examples[index]\n",
        "\n",
        "        img_id = example[\"img_id\"]\n",
        "        img_path = example[\"img_path\"]\n",
        "        img = cv2.imread(img_path, -1) # (shape: (1024, 2048, 3))\n",
        "\n",
        "        # normalize the img (with the mean and std for the pretrained ResNet):\n",
        "        img = img/255.0\n",
        "        img = img - np.array([0.485, 0.456, 0.406])\n",
        "        img = img/np.array([0.229, 0.224, 0.225]) # (shape: (512, 1024, 3))\n",
        "        img = np.transpose(img, (2, 0, 1)) # (shape: (3, 512, 1024))\n",
        "        img = img.astype(np.float32)\n",
        "\n",
        "        # convert numpy -> torch:\n",
        "        img = torch.from_numpy(img) # (shape: (3, 512, 1024))\n",
        "        #label_img = torch.from_numpy(label_img) # (shape: (512, 1024))\n",
        "        print(img_id)\n",
        "        return (img, img_id)\n",
        "\n",
        "    def __len__(self):\n",
        "        return self.num_examples\n"
      ],
      "execution_count": 0,
      "outputs": []
    },
    {
      "cell_type": "code",
      "metadata": {
        "colab_type": "code",
        "id": "oFNeJyMDo3O7",
        "outputId": "ec34119f-4c72-44b1-f0c7-643122d72abc",
        "colab": {
          "base_uri": "https://localhost:8080/",
          "height": 34
        }
      },
      "source": [
        "val_dataset = DatasetVal(input_path=input_dir, output_path=output_dir)"
      ],
      "execution_count": 29,
      "outputs": [
        {
          "output_type": "stream",
          "text": [
            "208 images were identified from the input directory.\n"
          ],
          "name": "stdout"
        }
      ]
    },
    {
      "cell_type": "code",
      "metadata": {
        "id": "Vr1K5FCEa0LQ",
        "colab_type": "code",
        "outputId": "6c13355a-4c1d-4022-b71d-15851d02ab11",
        "colab": {
          "base_uri": "https://localhost:8080/",
          "height": 1000
        }
      },
      "source": [
        "val_dataset.examples"
      ],
      "execution_count": 30,
      "outputs": [
        {
          "output_type": "execute_result",
          "data": {
            "text/plain": [
              "[{'img_id': 'washingtonmarvin1',\n",
              "  'img_path': 'images307/washingtonmarvin1.jpg'},\n",
              " {'img_id': 'AnneArundel3', 'img_path': 'images307/AnneArundel3.jpg'},\n",
              " {'img_id': 'grow2', 'img_path': 'images307/grow2.jpg'},\n",
              " {'img_id': 'Earth1', 'img_path': 'images307/Earth1.jpg'},\n",
              " {'img_id': 'PattersonPark029', 'img_path': 'images307/PattersonPark029.jpg'},\n",
              " {'img_id': 'CBF3', 'img_path': 'images307/CBF3.jpg'},\n",
              " {'img_id': 'BaltParksCarmine2',\n",
              "  'img_path': 'images307/BaltParksCarmine2.jpg'},\n",
              " {'img_id': 'Franklin1', 'img_path': 'images307/Franklin1.jpg'},\n",
              " {'img_id': 'kensington', 'img_path': 'images307/kensington.jpg'},\n",
              " {'img_id': 'washwatts1', 'img_path': 'images307/washwatts1.jpg'},\n",
              " {'img_id': 'AVAM_02', 'img_path': 'images307/AVAM_02.jpg'},\n",
              " {'img_id': 'washmeridian3', 'img_path': 'images307/washmeridian3.jpg'},\n",
              " {'img_id': 'Mt_Washington_Arboretum028',\n",
              "  'img_path': 'images307/Mt_Washington_Arboretum028.jpg'},\n",
              " {'img_id': 'WhitWalker_TKF049',\n",
              "  'img_path': 'images307/WhitWalker_TKF049.jpg'},\n",
              " {'img_id': 'Marian_House16', 'img_path': 'images307/Marian_House16.jpg'},\n",
              " {'img_id': 'WhitWalker_TKF007',\n",
              "  'img_path': 'images307/WhitWalker_TKF007.jpg'},\n",
              " {'img_id': 'UMCP2', 'img_path': 'images307/UMCP2.jpg'},\n",
              " {'img_id': 'BaltParkEastside', 'img_path': 'images307/BaltParkEastside.jpg'},\n",
              " {'img_id': 'newborn3', 'img_path': 'images307/newborn3.jpg'},\n",
              " {'img_id': 'Frederick2', 'img_path': 'images307/Frederick2.jpg'},\n",
              " {'img_id': 'jeremys2', 'img_path': 'images307/jeremys2.jpg'},\n",
              " {'img_id': 'ASTT_13', 'img_path': 'images307/ASTT_13.jpg'},\n",
              " {'img_id': 'GreenspacesPenn', 'img_path': 'images307/GreenspacesPenn.jpg'},\n",
              " {'img_id': 'stanthonys1', 'img_path': 'images307/stanthonys1.jpg'},\n",
              " {'img_id': 'StAnthony_s123', 'img_path': 'images307/StAnthony_s123.jpg'},\n",
              " {'img_id': 'CBF1', 'img_path': 'images307/CBF1.jpg'},\n",
              " {'img_id': 'Mt_Washington_Arboretum029',\n",
              "  'img_path': 'images307/Mt_Washington_Arboretum029.jpg'},\n",
              " {'img_id': 'washwatts2', 'img_path': 'images307/washwatts2.jpg'},\n",
              " {'img_id': 'Epiphany3', 'img_path': 'images307/Epiphany3.jpg'},\n",
              " {'img_id': 'APA2', 'img_path': 'images307/APA2.jpg'},\n",
              " {'img_id': 'Childrens2', 'img_path': 'images307/Childrens2.jpg'},\n",
              " {'img_id': 'Friends2', 'img_path': 'images307/Friends2.jpg'},\n",
              " {'img_id': 'metro3', 'img_path': 'images307/metro3.jpg'},\n",
              " {'img_id': 'Frederick3', 'img_path': 'images307/Frederick3.jpg'},\n",
              " {'img_id': 'Village_Learning_Place25',\n",
              "  'img_path': 'images307/Village_Learning_Place25.jpg'},\n",
              " {'img_id': 'hopkins1', 'img_path': 'images307/hopkins1.jpg'},\n",
              " {'img_id': 'Greenspaces1', 'img_path': 'images307/Greenspaces1.jpg'},\n",
              " {'img_id': 'newborn1', 'img_path': 'images307/newborn1.jpg'},\n",
              " {'img_id': 'Providence_Hospital_20',\n",
              "  'img_path': 'images307/Providence_Hospital_20.jpg'},\n",
              " {'img_id': 'upenn3', 'img_path': 'images307/upenn3.jpg'},\n",
              " {'img_id': 'UMBC-Beuys062', 'img_path': 'images307/UMBC-Beuys062.jpg'},\n",
              " {'img_id': 'leon2', 'img_path': 'images307/leon2.jpg'},\n",
              " {'img_id': 'UMCP3', 'img_path': 'images307/UMCP3.jpg'},\n",
              " {'img_id': 'java1', 'img_path': 'images307/java1.jpg'},\n",
              " {'img_id': 'ARC2', 'img_path': 'images307/ARC2.jpg'},\n",
              " {'img_id': 'StLuke_s_Bethesda_13',\n",
              "  'img_path': 'images307/StLuke_s_Bethesda_13.jpg'},\n",
              " {'img_id': 'stpauls3', 'img_path': 'images307/stpauls3.jpg'},\n",
              " {'img_id': 'upenn1', 'img_path': 'images307/upenn1.jpg'},\n",
              " {'img_id': 'margo3', 'img_path': 'images307/margo3.jpg'},\n",
              " {'img_id': 'APA3', 'img_path': 'images307/APA3.jpg'},\n",
              " {'img_id': 'BaltParkGreenmount',\n",
              "  'img_path': 'images307/BaltParkGreenmount.jpg'},\n",
              " {'img_id': 'league2', 'img_path': 'images307/league2.jpg'},\n",
              " {'img_id': 'UMBC-Beuys054', 'img_path': 'images307/UMBC-Beuys054.jpg'},\n",
              " {'img_id': 'Thanksgiving_Place_65',\n",
              "  'img_path': 'images307/Thanksgiving_Place_65.jpg'},\n",
              " {'img_id': 'meridian1', 'img_path': 'images307/meridian1.jpg'},\n",
              " {'img_id': 'hopkins2', 'img_path': 'images307/hopkins2.jpg'},\n",
              " {'img_id': 'kids3', 'img_path': 'images307/kids3.jpg'},\n",
              " {'img_id': 'grow3', 'img_path': 'images307/grow3.jpg'},\n",
              " {'img_id': 'ARC_of_PG', 'img_path': 'images307/ARC_of_PG.jpg'},\n",
              " {'img_id': 'Amazing_Grace_087',\n",
              "  'img_path': 'images307/Amazing_Grace_087.jpg'},\n",
              " {'img_id': 'rocco_buda_after', 'img_path': 'images307/rocco_buda_after.jpg'},\n",
              " {'img_id': 'jeremys3', 'img_path': 'images307/jeremys3.jpg'},\n",
              " {'img_id': 'hopkins3', 'img_path': 'images307/hopkins3.jpg'},\n",
              " {'img_id': 'kernan1', 'img_path': 'images307/kernan1.jpg'},\n",
              " {'img_id': 'Providence_Hospital_31',\n",
              "  'img_path': 'images307/Providence_Hospital_31.jpg'},\n",
              " {'img_id': 'A_Wider_Circle_017',\n",
              "  'img_path': 'images307/A_Wider_Circle_017.jpg'},\n",
              " {'img_id': 'Friends3', 'img_path': 'images307/Friends3.jpg'},\n",
              " {'img_id': 'Bates3', 'img_path': 'images307/Bates3.jpg'},\n",
              " {'img_id': 'NDC1', 'img_path': 'images307/NDC1.jpg'},\n",
              " {'img_id': 'Providence_Hospital_17',\n",
              "  'img_path': 'images307/Providence_Hospital_17.jpg'},\n",
              " {'img_id': 'Govans3', 'img_path': 'images307/Govans3.jpg'},\n",
              " {'img_id': 'MD2', 'img_path': 'images307/MD2.jpg'},\n",
              " {'img_id': 'MD3', 'img_path': 'images307/MD3.jpg'},\n",
              " {'img_id': 'Greenspaces3', 'img_path': 'images307/Greenspaces3.jpg'},\n",
              " {'img_id': 'AnneArundel1', 'img_path': 'images307/AnneArundel1.jpg'},\n",
              " {'img_id': 'Epiphany1', 'img_path': 'images307/Epiphany1.jpg'},\n",
              " {'img_id': 'Annapolis_Waterworks1',\n",
              "  'img_path': 'images307/Annapolis_Waterworks1.jpg'},\n",
              " {'img_id': 'ARC_of_PG_Dedication_028',\n",
              "  'img_path': 'images307/ARC_of_PG_Dedication_028.jpg'},\n",
              " {'img_id': 'MD1', 'img_path': 'images307/MD1.jpg'},\n",
              " {'img_id': 'Bates2', 'img_path': 'images307/Bates2.jpg'},\n",
              " {'img_id': 'Annapolis_Waterworks3',\n",
              "  'img_path': 'images307/Annapolis_Waterworks3.jpg'},\n",
              " {'img_id': 'StLuke_s_labyrinth_from_the_churchyard',\n",
              "  'img_path': 'images307/StLuke_s_labyrinth_from_the_churchyard.jpg'},\n",
              " {'img_id': 'Amazing_Grace_086',\n",
              "  'img_path': 'images307/Amazing_Grace_086.jpg'},\n",
              " {'img_id': 'Thanksgiving_Place_69',\n",
              "  'img_path': 'images307/Thanksgiving_Place_69.jpg'},\n",
              " {'img_id': 'UMCP1', 'img_path': 'images307/UMCP1.jpg'},\n",
              " {'img_id': 'Village_Learning_Place05',\n",
              "  'img_path': 'images307/Village_Learning_Place05.jpg'},\n",
              " {'img_id': 'jessup3', 'img_path': 'images307/jessup3.jpg'},\n",
              " {'img_id': 'Amazing_Grace_089',\n",
              "  'img_path': 'images307/Amazing_Grace_089.jpg'},\n",
              " {'img_id': 'jessup1', 'img_path': 'images307/jessup1.jpg'},\n",
              " {'img_id': 'GeorgetownL2', 'img_path': 'images307/GeorgetownL2.jpg'},\n",
              " {'img_id': 'Bonsec_completed', 'img_path': 'images307/Bonsec_completed.jpg'},\n",
              " {'img_id': 'washmeridian1', 'img_path': 'images307/washmeridian1.jpg'},\n",
              " {'img_id': 'washingtonmarvin2',\n",
              "  'img_path': 'images307/washingtonmarvin2.jpg'},\n",
              " {'img_id': 'Franklin3', 'img_path': 'images307/Franklin3.jpg'},\n",
              " {'img_id': 'Friends1', 'img_path': 'images307/Friends1.jpg'},\n",
              " {'img_id': 'league1', 'img_path': 'images307/league1.jpg'},\n",
              " {'img_id': 'Epiphany2', 'img_path': 'images307/Epiphany2.jpg'},\n",
              " {'img_id': 'ARC1', 'img_path': 'images307/ARC1.jpg'},\n",
              " {'img_id': 'washwatts3', 'img_path': 'images307/washwatts3.jpg'},\n",
              " {'img_id': 'AnneArundel2', 'img_path': 'images307/AnneArundel2.jpg'},\n",
              " {'img_id': 'Georgetowneast', 'img_path': 'images307/Georgetowneast.jpg'},\n",
              " {'img_id': 'metro2', 'img_path': 'images307/metro2.jpg'},\n",
              " {'img_id': 'CommunityMeditation1',\n",
              "  'img_path': 'images307/CommunityMeditation1.jpg'},\n",
              " {'img_id': 'peoples', 'img_path': 'images307/peoples.jpg'},\n",
              " {'img_id': 'margo2', 'img_path': 'images307/margo2.jpg'},\n",
              " {'img_id': 'NDC3', 'img_path': 'images307/NDC3.jpg'},\n",
              " {'img_id': 'BaltParkReservoir',\n",
              "  'img_path': 'images307/BaltParkReservoir.jpg'},\n",
              " {'img_id': 'UMBCbeuys', 'img_path': 'images307/UMBCbeuys.jpg'},\n",
              " {'img_id': 'CommunityMeditation2',\n",
              "  'img_path': 'images307/CommunityMeditation2.jpg'},\n",
              " {'img_id': 'APA1', 'img_path': 'images307/APA1.jpg'},\n",
              " {'img_id': 'LHHSPC_028', 'img_path': 'images307/LHHSPC_028.jpg'},\n",
              " {'img_id': 'jessup2', 'img_path': 'images307/jessup2.jpg'},\n",
              " {'img_id': 'mtwash1', 'img_path': 'images307/mtwash1.jpg'},\n",
              " {'img_id': 'newborn2', 'img_path': 'images307/newborn2.jpg'},\n",
              " {'img_id': 'grow1', 'img_path': 'images307/grow1.jpg'},\n",
              " {'img_id': 'AnnapolisM1', 'img_path': 'images307/AnnapolisM1.jpg'},\n",
              " {'img_id': 'CBF2', 'img_path': 'images307/CBF2.jpg'},\n",
              " {'img_id': 'A_Wider_Circle_007',\n",
              "  'img_path': 'images307/A_Wider_Circle_007.jpg'},\n",
              " {'img_id': 'Govans2', 'img_path': 'images307/Govans2.jpg'},\n",
              " {'img_id': 'BaltParkDruidHill',\n",
              "  'img_path': 'images307/BaltParkDruidHill.jpg'},\n",
              " {'img_id': 'Greenspaces2', 'img_path': 'images307/Greenspaces2.jpg'},\n",
              " {'img_id': 'national3', 'img_path': 'images307/national3.jpg'},\n",
              " {'img_id': 'ASTT_07', 'img_path': 'images307/ASTT_07.jpg'},\n",
              " {'img_id': 'unzentozen', 'img_path': 'images307/unzentozen.jpg'},\n",
              " {'img_id': 'leon3', 'img_path': 'images307/leon3.jpg'},\n",
              " {'img_id': 'unity2', 'img_path': 'images307/unity2.jpg'},\n",
              " {'img_id': 'java3', 'img_path': 'images307/java3.jpg'},\n",
              " {'img_id': 'LHHSPC_015', 'img_path': 'images307/LHHSPC_015.jpg'},\n",
              " {'img_id': 'Patterson', 'img_path': 'images307/Patterson.jpg'},\n",
              " {'img_id': 'meridian2', 'img_path': 'images307/meridian2.jpg'},\n",
              " {'img_id': 'national1', 'img_path': 'images307/national1.jpg'},\n",
              " {'img_id': 'BaltParksCarmine', 'img_path': 'images307/BaltParksCarmine.jpg'},\n",
              " {'img_id': 'sharpe1', 'img_path': 'images307/sharpe1.jpg'},\n",
              " {'img_id': 'AnnapolisM2', 'img_path': 'images307/AnnapolisM2.jpg'},\n",
              " {'img_id': 'Govans1', 'img_path': 'images307/Govans1.jpg'},\n",
              " {'img_id': 'leon1', 'img_path': 'images307/leon1.jpg'},\n",
              " {'img_id': 'kids1', 'img_path': 'images307/kids1.jpg'},\n",
              " {'img_id': 'WCI_007', 'img_path': 'images307/WCI_007.jpg'},\n",
              " {'img_id': 'sharpehealth', 'img_path': 'images307/sharpehealth.jpg'},\n",
              " {'img_id': 'Earth2', 'img_path': 'images307/Earth2.jpg'},\n",
              " {'img_id': 'kernan2', 'img_path': 'images307/kernan2.jpg'},\n",
              " {'img_id': 'GeorgetownL1', 'img_path': 'images307/GeorgetownL1.jpg'},\n",
              " {'img_id': 'BaltClayworks2', 'img_path': 'images307/BaltClayworks2.jpg'},\n",
              " {'img_id': 'stanthonys2', 'img_path': 'images307/stanthonys2.jpg'},\n",
              " {'img_id': 'BaltParkDuncanSt', 'img_path': 'images307/BaltParkDuncanSt.jpg'},\n",
              " {'img_id': 'upenn2', 'img_path': 'images307/upenn2.jpg'},\n",
              " {'img_id': 'Childrens1', 'img_path': 'images307/Childrens1.jpg'},\n",
              " {'img_id': 'Greenmount_School_mosaic_mural',\n",
              "  'img_path': 'images307/Greenmount_School_mosaic_mural.jpg'},\n",
              " {'img_id': 'jeremys1', 'img_path': 'images307/jeremys1.jpg'},\n",
              " {'img_id': 'stpauls1', 'img_path': 'images307/stpauls1.jpg'},\n",
              " {'img_id': 'stbartholomews', 'img_path': 'images307/stbartholomews.jpg'},\n",
              " {'img_id': 'ARC3', 'img_path': 'images307/ARC3.jpg'},\n",
              " {'img_id': 'AVAM_24', 'img_path': 'images307/AVAM_24.jpg'},\n",
              " {'img_id': 'Unity1', 'img_path': 'images307/Unity1.jpg'},\n",
              " {'img_id': 'Crispus3', 'img_path': 'images307/Crispus3.jpg'},\n",
              " {'img_id': 'greenmount_school_garden',\n",
              "  'img_path': 'images307/greenmount_school_garden.jpg'},\n",
              " {'img_id': 'metro1', 'img_path': 'images307/metro1.jpg'},\n",
              " {'img_id': 'national2', 'img_path': 'images307/national2.jpg'},\n",
              " {'img_id': 'NDC2', 'img_path': 'images307/NDC2.jpg'},\n",
              " {'img_id': 'Village_Learning_Place01',\n",
              "  'img_path': 'images307/Village_Learning_Place01.jpg'},\n",
              " {'img_id': 'meridian3', 'img_path': 'images307/meridian3.jpg'},\n",
              " {'img_id': 'Frederick1', 'img_path': 'images307/Frederick1.jpg'},\n",
              " {'img_id': 'BaltParksKeySchool',\n",
              "  'img_path': 'images307/BaltParksKeySchool.jpg'},\n",
              " {'img_id': 'sharpe2', 'img_path': 'images307/sharpe2.jpg'},\n",
              " {'img_id': 'AnnapolisM3', 'img_path': 'images307/AnnapolisM3.jpg'},\n",
              " {'img_id': 'BaltParksDSC', 'img_path': 'images307/BaltParksDSC.jpg'},\n",
              " {'img_id': 'BaltWash3', 'img_path': 'images307/BaltWash3.jpg'},\n",
              " {'img_id': 'Franklin2', 'img_path': 'images307/Franklin2.jpg'},\n",
              " {'img_id': 'rocco_buda_gazebo',\n",
              "  'img_path': 'images307/rocco_buda_gazebo.jpg'},\n",
              " {'img_id': 'StLuke_s_Bethesda_47',\n",
              "  'img_path': 'images307/StLuke_s_Bethesda_47.jpg'},\n",
              " {'img_id': 'Bates1', 'img_path': 'images307/Bates1.jpg'},\n",
              " {'img_id': 'kids2', 'img_path': 'images307/kids2.jpg'},\n",
              " {'img_id': 'BaltClayworks1', 'img_path': 'images307/BaltClayworks1.jpg'},\n",
              " {'img_id': 'league3', 'img_path': 'images307/league3.jpg'},\n",
              " {'img_id': 'java2', 'img_path': 'images307/java2.jpg'},\n",
              " {'img_id': 'Childrens3', 'img_path': 'images307/Childrens3.jpg'},\n",
              " {'img_id': 'GeorgetownL3', 'img_path': 'images307/GeorgetownL3.jpg'},\n",
              " {'img_id': 'AVAM_17', 'img_path': 'images307/AVAM_17.jpg'},\n",
              " {'img_id': 'BaltWash1', 'img_path': 'images307/BaltWash1.jpg'},\n",
              " {'img_id': 'WhitWalker_TKF069',\n",
              "  'img_path': 'images307/WhitWalker_TKF069.jpg'},\n",
              " {'img_id': 'Thanksgiving_Place_01',\n",
              "  'img_path': 'images307/Thanksgiving_Place_01.jpg'},\n",
              " {'img_id': 'Marian_House12', 'img_path': 'images307/Marian_House12.jpg'},\n",
              " {'img_id': 'WCI_051', 'img_path': 'images307/WCI_051.jpg'},\n",
              " {'img_id': 'washingtonmarvin3',\n",
              "  'img_path': 'images307/washingtonmarvin3.jpg'},\n",
              " {'img_id': 'CommunityMeditation3',\n",
              "  'img_path': 'images307/CommunityMeditation3.jpg'},\n",
              " {'img_id': 'ARC_of_PG_Dedication_009',\n",
              "  'img_path': 'images307/ARC_of_PG_Dedication_009.jpg'},\n",
              " {'img_id': 'unity3', 'img_path': 'images307/unity3.jpg'},\n",
              " {'img_id': 'stpauls2', 'img_path': 'images307/stpauls2.jpg'},\n",
              " {'img_id': 'Marian_House24', 'img_path': 'images307/Marian_House24.jpg'},\n",
              " {'img_id': 'Crispus1', 'img_path': 'images307/Crispus1.jpg'},\n",
              " {'img_id': 'ASTT_17', 'img_path': 'images307/ASTT_17.jpg'},\n",
              " {'img_id': 'WCI_003', 'img_path': 'images307/WCI_003.jpg'},\n",
              " {'img_id': 'Bonsec', 'img_path': 'images307/Bonsec.jpg'},\n",
              " {'img_id': 'margo1', 'img_path': 'images307/margo1.jpg'},\n",
              " {'img_id': 'Crispus2', 'img_path': 'images307/Crispus2.jpg'},\n",
              " {'img_id': 'washmeridian2', 'img_path': 'images307/washmeridian2.jpg'},\n",
              " {'img_id': 'PattersonPark022', 'img_path': 'images307/PattersonPark022.jpg'},\n",
              " {'img_id': 'Earth3', 'img_path': 'images307/Earth3.jpg'},\n",
              " {'img_id': 'kernan3', 'img_path': 'images307/kernan3.jpg'},\n",
              " {'img_id': 'BaltWash2', 'img_path': 'images307/BaltWash2.jpg'},\n",
              " {'img_id': 'BaltParksEdmonson',\n",
              "  'img_path': 'images307/BaltParksEdmonson.jpg'},\n",
              " {'img_id': 'BaltClayworks3', 'img_path': 'images307/BaltClayworks3.jpg'},\n",
              " {'img_id': 'A_Wider_Circle_006',\n",
              "  'img_path': 'images307/A_Wider_Circle_006.jpg'},\n",
              " {'img_id': 'rocco_buda_playground',\n",
              "  'img_path': 'images307/rocco_buda_playground.jpg'},\n",
              " {'img_id': 'LHHSPC_023', 'img_path': 'images307/LHHSPC_023.jpg'},\n",
              " {'img_id': 'Annapolis_Waterworks2',\n",
              "  'img_path': 'images307/Annapolis_Waterworks2.jpg'},\n",
              " {'img_id': 'BaltParkDuncanSt(2)',\n",
              "  'img_path': 'images307/BaltParkDuncanSt(2).jpg'},\n",
              " {'img_id': 'Congressional', 'img_path': 'images307/Congressional.jpg'}]"
            ]
          },
          "metadata": {
            "tags": []
          },
          "execution_count": 30
        }
      ]
    },
    {
      "cell_type": "code",
      "metadata": {
        "colab_type": "code",
        "id": "KTeLB2Z8pCBw",
        "colab": {}
      },
      "source": [
        "val_loader = torch.utils.data.DataLoader(dataset=val_dataset,\n",
        "                                         batch_size=1, shuffle=False,\n",
        "                                         num_workers=1)"
      ],
      "execution_count": 0,
      "outputs": []
    },
    {
      "cell_type": "code",
      "metadata": {
        "colab_type": "code",
        "id": "dp03CO2hNKP4",
        "outputId": "6069b622-0e04-4aae-fe25-432170208c05",
        "colab": {
          "base_uri": "https://localhost:8080/",
          "height": 1000
        }
      },
      "source": [
        "network.eval()"
      ],
      "execution_count": 32,
      "outputs": [
        {
          "output_type": "execute_result",
          "data": {
            "text/plain": [
              "DeepLabV3(\n",
              "  (resnet): ResNet_BasicBlock_OS8(\n",
              "    (resnet): Sequential(\n",
              "      (0): Conv2d(3, 64, kernel_size=(7, 7), stride=(2, 2), padding=(3, 3), bias=False)\n",
              "      (1): BatchNorm2d(64, eps=1e-05, momentum=0.1, affine=True, track_running_stats=True)\n",
              "      (2): ReLU(inplace=True)\n",
              "      (3): MaxPool2d(kernel_size=3, stride=2, padding=1, dilation=1, ceil_mode=False)\n",
              "      (4): Sequential(\n",
              "        (0): BasicBlock(\n",
              "          (conv1): Conv2d(64, 64, kernel_size=(3, 3), stride=(1, 1), padding=(1, 1), bias=False)\n",
              "          (bn1): BatchNorm2d(64, eps=1e-05, momentum=0.1, affine=True, track_running_stats=True)\n",
              "          (relu): ReLU(inplace=True)\n",
              "          (conv2): Conv2d(64, 64, kernel_size=(3, 3), stride=(1, 1), padding=(1, 1), bias=False)\n",
              "          (bn2): BatchNorm2d(64, eps=1e-05, momentum=0.1, affine=True, track_running_stats=True)\n",
              "        )\n",
              "        (1): BasicBlock(\n",
              "          (conv1): Conv2d(64, 64, kernel_size=(3, 3), stride=(1, 1), padding=(1, 1), bias=False)\n",
              "          (bn1): BatchNorm2d(64, eps=1e-05, momentum=0.1, affine=True, track_running_stats=True)\n",
              "          (relu): ReLU(inplace=True)\n",
              "          (conv2): Conv2d(64, 64, kernel_size=(3, 3), stride=(1, 1), padding=(1, 1), bias=False)\n",
              "          (bn2): BatchNorm2d(64, eps=1e-05, momentum=0.1, affine=True, track_running_stats=True)\n",
              "        )\n",
              "      )\n",
              "      (5): Sequential(\n",
              "        (0): BasicBlock(\n",
              "          (conv1): Conv2d(64, 128, kernel_size=(3, 3), stride=(2, 2), padding=(1, 1), bias=False)\n",
              "          (bn1): BatchNorm2d(128, eps=1e-05, momentum=0.1, affine=True, track_running_stats=True)\n",
              "          (relu): ReLU(inplace=True)\n",
              "          (conv2): Conv2d(128, 128, kernel_size=(3, 3), stride=(1, 1), padding=(1, 1), bias=False)\n",
              "          (bn2): BatchNorm2d(128, eps=1e-05, momentum=0.1, affine=True, track_running_stats=True)\n",
              "          (downsample): Sequential(\n",
              "            (0): Conv2d(64, 128, kernel_size=(1, 1), stride=(2, 2), bias=False)\n",
              "            (1): BatchNorm2d(128, eps=1e-05, momentum=0.1, affine=True, track_running_stats=True)\n",
              "          )\n",
              "        )\n",
              "        (1): BasicBlock(\n",
              "          (conv1): Conv2d(128, 128, kernel_size=(3, 3), stride=(1, 1), padding=(1, 1), bias=False)\n",
              "          (bn1): BatchNorm2d(128, eps=1e-05, momentum=0.1, affine=True, track_running_stats=True)\n",
              "          (relu): ReLU(inplace=True)\n",
              "          (conv2): Conv2d(128, 128, kernel_size=(3, 3), stride=(1, 1), padding=(1, 1), bias=False)\n",
              "          (bn2): BatchNorm2d(128, eps=1e-05, momentum=0.1, affine=True, track_running_stats=True)\n",
              "        )\n",
              "      )\n",
              "    )\n",
              "    (layer4): Sequential(\n",
              "      (0): BasicBlock(\n",
              "        (conv1): Conv2d(128, 256, kernel_size=(3, 3), stride=(1, 1), padding=(2, 2), dilation=(2, 2), bias=False)\n",
              "        (bn1): BatchNorm2d(256, eps=1e-05, momentum=0.1, affine=True, track_running_stats=True)\n",
              "        (conv2): Conv2d(256, 256, kernel_size=(3, 3), stride=(1, 1), padding=(2, 2), dilation=(2, 2), bias=False)\n",
              "        (bn2): BatchNorm2d(256, eps=1e-05, momentum=0.1, affine=True, track_running_stats=True)\n",
              "        (downsample): Sequential(\n",
              "          (0): Conv2d(128, 256, kernel_size=(1, 1), stride=(1, 1), bias=False)\n",
              "          (1): BatchNorm2d(256, eps=1e-05, momentum=0.1, affine=True, track_running_stats=True)\n",
              "        )\n",
              "      )\n",
              "      (1): BasicBlock(\n",
              "        (conv1): Conv2d(256, 256, kernel_size=(3, 3), stride=(1, 1), padding=(2, 2), dilation=(2, 2), bias=False)\n",
              "        (bn1): BatchNorm2d(256, eps=1e-05, momentum=0.1, affine=True, track_running_stats=True)\n",
              "        (conv2): Conv2d(256, 256, kernel_size=(3, 3), stride=(1, 1), padding=(2, 2), dilation=(2, 2), bias=False)\n",
              "        (bn2): BatchNorm2d(256, eps=1e-05, momentum=0.1, affine=True, track_running_stats=True)\n",
              "        (downsample): Sequential()\n",
              "      )\n",
              "    )\n",
              "    (layer5): Sequential(\n",
              "      (0): BasicBlock(\n",
              "        (conv1): Conv2d(256, 512, kernel_size=(3, 3), stride=(1, 1), padding=(4, 4), dilation=(4, 4), bias=False)\n",
              "        (bn1): BatchNorm2d(512, eps=1e-05, momentum=0.1, affine=True, track_running_stats=True)\n",
              "        (conv2): Conv2d(512, 512, kernel_size=(3, 3), stride=(1, 1), padding=(4, 4), dilation=(4, 4), bias=False)\n",
              "        (bn2): BatchNorm2d(512, eps=1e-05, momentum=0.1, affine=True, track_running_stats=True)\n",
              "        (downsample): Sequential(\n",
              "          (0): Conv2d(256, 512, kernel_size=(1, 1), stride=(1, 1), bias=False)\n",
              "          (1): BatchNorm2d(512, eps=1e-05, momentum=0.1, affine=True, track_running_stats=True)\n",
              "        )\n",
              "      )\n",
              "      (1): BasicBlock(\n",
              "        (conv1): Conv2d(512, 512, kernel_size=(3, 3), stride=(1, 1), padding=(4, 4), dilation=(4, 4), bias=False)\n",
              "        (bn1): BatchNorm2d(512, eps=1e-05, momentum=0.1, affine=True, track_running_stats=True)\n",
              "        (conv2): Conv2d(512, 512, kernel_size=(3, 3), stride=(1, 1), padding=(4, 4), dilation=(4, 4), bias=False)\n",
              "        (bn2): BatchNorm2d(512, eps=1e-05, momentum=0.1, affine=True, track_running_stats=True)\n",
              "        (downsample): Sequential()\n",
              "      )\n",
              "    )\n",
              "  )\n",
              "  (aspp): ASPP(\n",
              "    (conv_1x1_1): Conv2d(512, 256, kernel_size=(1, 1), stride=(1, 1))\n",
              "    (bn_conv_1x1_1): BatchNorm2d(256, eps=1e-05, momentum=0.1, affine=True, track_running_stats=True)\n",
              "    (conv_3x3_1): Conv2d(512, 256, kernel_size=(3, 3), stride=(1, 1), padding=(6, 6), dilation=(6, 6))\n",
              "    (bn_conv_3x3_1): BatchNorm2d(256, eps=1e-05, momentum=0.1, affine=True, track_running_stats=True)\n",
              "    (conv_3x3_2): Conv2d(512, 256, kernel_size=(3, 3), stride=(1, 1), padding=(12, 12), dilation=(12, 12))\n",
              "    (bn_conv_3x3_2): BatchNorm2d(256, eps=1e-05, momentum=0.1, affine=True, track_running_stats=True)\n",
              "    (conv_3x3_3): Conv2d(512, 256, kernel_size=(3, 3), stride=(1, 1), padding=(18, 18), dilation=(18, 18))\n",
              "    (bn_conv_3x3_3): BatchNorm2d(256, eps=1e-05, momentum=0.1, affine=True, track_running_stats=True)\n",
              "    (avg_pool): AdaptiveAvgPool2d(output_size=1)\n",
              "    (conv_1x1_2): Conv2d(512, 256, kernel_size=(1, 1), stride=(1, 1))\n",
              "    (bn_conv_1x1_2): BatchNorm2d(256, eps=1e-05, momentum=0.1, affine=True, track_running_stats=True)\n",
              "    (conv_1x1_3): Conv2d(1280, 256, kernel_size=(1, 1), stride=(1, 1))\n",
              "    (bn_conv_1x1_3): BatchNorm2d(256, eps=1e-05, momentum=0.1, affine=True, track_running_stats=True)\n",
              "    (conv_1x1_4): Conv2d(256, 20, kernel_size=(1, 1), stride=(1, 1))\n",
              "  )\n",
              ")"
            ]
          },
          "metadata": {
            "tags": []
          },
          "execution_count": 32
        }
      ]
    },
    {
      "cell_type": "code",
      "metadata": {
        "colab_type": "code",
        "id": "MftPJ76RpC4H",
        "outputId": "c83a303a-809e-487b-cb39-b0d7fc38315f",
        "colab": {
          "base_uri": "https://localhost:8080/",
          "height": 1000
        }
      },
      "source": [
        "count = 0\n",
        "\n",
        "#produce labeled image\n",
        "for step, (imgs, img_ids) in enumerate(val_loader):\n",
        "    #print(img_ids)\n",
        "    with torch.no_grad(): # (corresponds to setting volatile=True in all variables, this is done during inference to reduce memory consumption)\n",
        "        imgs = Variable(imgs).cuda() # (shape: (batch_size, 3, img_h, img_w))\n",
        "        outputs = network(imgs) # (shape: (batch_size, num_classes, img_h, img_w))\n",
        "  \n",
        "        ########################################################################\n",
        "        # save data for visualization:\n",
        "        ########################################################################\n",
        "        \n",
        "        outputs = outputs.data.cpu().numpy() # (shape: (batch_size, num_classes, img_h, img_w))\n",
        "        pred_label_imgs = np.argmax(outputs, axis=1) # (shape: (batch_size, img_h, img_w))\n",
        "        pred_label_imgs = pred_label_imgs.astype(np.uint8)\n",
        "\n",
        "        for i in range(pred_label_imgs.shape[0]):\n",
        "            if i == 0:\n",
        "                pred_label_img = pred_label_imgs[i] # (shape: (img_h, img_w))\n",
        "                img_id = img_ids[i]\n",
        "                img = imgs[i] # (shape: (3, img_h, img_w))\n",
        "\n",
        "                img = img.data.cpu().numpy()\n",
        "                img = np.transpose(img, (1, 2, 0)) # (shape: (img_h, img_w, 3))\n",
        "                img = img*np.array([0.229, 0.224, 0.225])\n",
        "                img = img + np.array([0.485, 0.456, 0.406])\n",
        "                img = img*255.0\n",
        "                img = img.astype(np.uint8)\n",
        "\n",
        "                pred_label_img_color = label_img_to_color(pred_label_img)\n",
        "                overlayed_img = 0.35*img + 0.65*pred_label_img_color\n",
        "                overlayed_img = overlayed_img.astype(np.uint8)\n",
        "                #producing original predicted images\n",
        "                cv2.imwrite(val_dataset.output_dir + \"/\" + img_id + \"_pred_label.png\", pred_label_img )\n",
        "                \n",
        "                # produce debugging info for the first 10 images\n",
        "                if count < 100:\n",
        "                    #producing colored predicted images\n",
        "                    cv2.imwrite(val_dataset.debug_dir + \"/\" + img_id + \"_pred_label_colorimg.png\", pred_label_img_color )\n",
        "                    #producing overlayed images\n",
        "                    cv2.imwrite(val_dataset.debug_dir + \"/\" + img_id + \"_overlayed.png\", overlayed_img)\n",
        "                \n",
        "\n",
        "        ########################################################################\n",
        "        # quick counting\n",
        "        ########################################################################\n",
        "        count += 1\n",
        "                "
      ],
      "execution_count": 33,
      "outputs": [
        {
          "output_type": "stream",
          "text": [
            "washingtonmarvin1\n",
            "AnneArundel3\n",
            "grow2\n"
          ],
          "name": "stdout"
        },
        {
          "output_type": "stream",
          "text": [
            "/usr/local/lib/python3.6/dist-packages/torch/nn/functional.py:2796: UserWarning: nn.functional.upsample is deprecated. Use nn.functional.interpolate instead.\n",
            "  warnings.warn(\"nn.functional.upsample is deprecated. Use nn.functional.interpolate instead.\")\n",
            "/usr/local/lib/python3.6/dist-packages/torch/nn/functional.py:2973: UserWarning: Default upsampling behavior when mode=bilinear is changed to align_corners=False since 0.4.0. Please specify align_corners=True if the old behavior is desired. See the documentation of nn.Upsample for details.\n",
            "  \"See the documentation of nn.Upsample for details.\".format(mode))\n"
          ],
          "name": "stderr"
        },
        {
          "output_type": "stream",
          "text": [
            "Earth1\n",
            "PattersonPark029\n",
            "CBF3\n",
            "BaltParksCarmine2\n",
            "Franklin1\n",
            "kensington\n",
            "washwatts1\n",
            "AVAM_02\n",
            "washmeridian3\n",
            "Mt_Washington_Arboretum028\n",
            "WhitWalker_TKF049\n",
            "Marian_House16\n",
            "WhitWalker_TKF007\n",
            "UMCP2\n",
            "BaltParkEastside\n",
            "newborn3\n",
            "Frederick2\n",
            "jeremys2\n",
            "ASTT_13\n",
            "GreenspacesPenn\n",
            "stanthonys1\n",
            "StAnthony_s123\n",
            "CBF1\n",
            "Mt_Washington_Arboretum029\n",
            "washwatts2\n",
            "Epiphany3\n",
            "APA2\n",
            "Childrens2\n",
            "Friends2\n",
            "metro3\n",
            "Frederick3\n",
            "Village_Learning_Place25\n",
            "hopkins1\n",
            "Greenspaces1\n",
            "newborn1\n",
            "Providence_Hospital_20\n",
            "upenn3\n",
            "UMBC-Beuys062\n",
            "leon2\n",
            "UMCP3\n",
            "java1\n",
            "ARC2\n",
            "StLuke_s_Bethesda_13\n",
            "stpauls3\n",
            "upenn1\n",
            "margo3\n",
            "APA3\n",
            "BaltParkGreenmount\n",
            "league2\n",
            "UMBC-Beuys054\n",
            "Thanksgiving_Place_65\n",
            "meridian1\n",
            "hopkins2\n",
            "kids3\n",
            "grow3\n",
            "ARC_of_PG\n",
            "Amazing_Grace_087\n",
            "rocco_buda_after\n",
            "jeremys3\n",
            "hopkins3\n",
            "kernan1\n",
            "Providence_Hospital_31\n",
            "A_Wider_Circle_017\n",
            "Friends3\n",
            "Bates3\n",
            "NDC1\n",
            "Providence_Hospital_17\n",
            "Govans3\n",
            "MD2\n",
            "MD3\n",
            "Greenspaces3\n",
            "AnneArundel1\n",
            "Epiphany1\n",
            "Annapolis_Waterworks1\n",
            "ARC_of_PG_Dedication_028\n",
            "MD1\n",
            "Bates2\n",
            "Annapolis_Waterworks3\n",
            "StLuke_s_labyrinth_from_the_churchyard\n",
            "Amazing_Grace_086\n",
            "Thanksgiving_Place_69\n",
            "UMCP1\n",
            "Village_Learning_Place05\n",
            "jessup3\n",
            "Amazing_Grace_089\n",
            "jessup1\n",
            "GeorgetownL2\n",
            "Bonsec_completed\n",
            "washmeridian1\n",
            "washingtonmarvin2\n",
            "Franklin3\n",
            "Friends1\n",
            "league1\n",
            "Epiphany2\n",
            "ARC1\n",
            "washwatts3\n",
            "AnneArundel2\n",
            "Georgetowneast\n",
            "metro2\n",
            "CommunityMeditation1\n",
            "peoples\n",
            "margo2\n",
            "NDC3\n",
            "BaltParkReservoir\n",
            "UMBCbeuys\n",
            "CommunityMeditation2\n",
            "APA1\n",
            "LHHSPC_028\n",
            "jessup2\n",
            "mtwash1\n",
            "newborn2\n",
            "grow1\n",
            "AnnapolisM1\n",
            "CBF2\n",
            "A_Wider_Circle_007\n",
            "Govans2\n",
            "BaltParkDruidHill\n",
            "Greenspaces2\n",
            "national3\n",
            "ASTT_07\n",
            "unzentozen\n",
            "leon3\n",
            "unity2\n",
            "java3\n",
            "LHHSPC_015\n",
            "Patterson\n",
            "meridian2\n",
            "national1\n",
            "BaltParksCarmine\n",
            "sharpe1\n",
            "AnnapolisM2\n",
            "Govans1\n",
            "leon1\n",
            "kids1\n",
            "WCI_007\n",
            "sharpehealth\n",
            "Earth2\n",
            "kernan2\n",
            "GeorgetownL1\n",
            "BaltClayworks2\n",
            "stanthonys2\n",
            "BaltParkDuncanSt\n",
            "upenn2\n",
            "Childrens1\n",
            "Greenmount_School_mosaic_mural\n",
            "jeremys1\n",
            "stpauls1\n",
            "stbartholomews\n",
            "ARC3\n",
            "AVAM_24\n",
            "Unity1\n",
            "Crispus3\n",
            "greenmount_school_garden\n",
            "metro1\n",
            "national2\n",
            "NDC2\n",
            "Village_Learning_Place01\n",
            "meridian3\n",
            "Frederick1\n",
            "BaltParksKeySchool\n",
            "sharpe2\n",
            "AnnapolisM3\n",
            "BaltParksDSC\n",
            "BaltWash3\n",
            "Franklin2\n",
            "rocco_buda_gazebo\n",
            "StLuke_s_Bethesda_47\n",
            "Bates1\n",
            "kids2\n",
            "BaltClayworks1\n",
            "league3\n",
            "java2\n",
            "Childrens3\n",
            "GeorgetownL3\n",
            "AVAM_17\n",
            "BaltWash1\n",
            "WhitWalker_TKF069\n",
            "Thanksgiving_Place_01\n",
            "Marian_House12\n",
            "WCI_051\n",
            "washingtonmarvin3\n",
            "CommunityMeditation3\n",
            "ARC_of_PG_Dedication_009\n",
            "unity3\n",
            "stpauls2\n",
            "Marian_House24\n",
            "Crispus1\n",
            "ASTT_17\n",
            "WCI_003\n",
            "Bonsec\n",
            "margo1\n",
            "Crispus2\n",
            "washmeridian2\n",
            "PattersonPark022\n",
            "Earth3\n",
            "kernan3\n",
            "BaltWash2\n",
            "BaltParksEdmonson\n",
            "BaltClayworks3\n",
            "A_Wider_Circle_006\n",
            "rocco_buda_playground\n",
            "LHHSPC_023\n",
            "Annapolis_Waterworks2\n",
            "BaltParkDuncanSt(2)\n",
            "Congressional\n"
          ],
          "name": "stdout"
        }
      ]
    },
    {
      "cell_type": "code",
      "metadata": {
        "colab_type": "code",
        "id": "HC9-m9Bz3AJN",
        "colab": {}
      },
      "source": [
        "# generate the summary csv file from the labeled files\n",
        "import glob\n",
        "output_files = glob.glob(val_dataset.output_dir + \"/*pred_label.png\")"
      ],
      "execution_count": 0,
      "outputs": []
    },
    {
      "cell_type": "code",
      "metadata": {
        "id": "_oKt265Qa0Li",
        "colab_type": "code",
        "outputId": "53b6a9ae-b398-4ab1-b48a-198d31c1516a",
        "colab": {
          "base_uri": "https://localhost:8080/",
          "height": 71
        }
      },
      "source": [
        "print(val_dataset.output_dir)\n",
        "print(output_files)"
      ],
      "execution_count": 35,
      "outputs": [
        {
          "output_type": "stream",
          "text": [
            "output\n",
            "['output/AVAM_02_pred_label.png', 'output/BaltParksKeySchool_pred_label.png', 'output/Childrens1_pred_label.png', 'output/APA2_pred_label.png', 'output/PattersonPark029_pred_label.png', 'output/league1_pred_label.png', 'output/ASTT_17_pred_label.png', 'output/Epiphany1_pred_label.png', 'output/jeremys1_pred_label.png', 'output/BaltParkReservoir_pred_label.png', 'output/MD2_pred_label.png', 'output/BaltParksDSC_pred_label.png', 'output/BaltClayworks3_pred_label.png', 'output/washingtonmarvin1_pred_label.png', 'output/Georgetowneast_pred_label.png', 'output/washwatts1_pred_label.png', 'output/ASTT_07_pred_label.png', 'output/Congressional_pred_label.png', 'output/margo2_pred_label.png', 'output/jessup2_pred_label.png', 'output/sharpe2_pred_label.png', 'output/rocco_buda_after_pred_label.png', 'output/Amazing_Grace_087_pred_label.png', 'output/Thanksgiving_Place_69_pred_label.png', 'output/WCI_007_pred_label.png', 'output/unity2_pred_label.png', 'output/WhitWalker_TKF049_pred_label.png', 'output/jessup3_pred_label.png', 'output/ARC_of_PG_Dedication_028_pred_label.png', 'output/AnneArundel1_pred_label.png', 'output/leon1_pred_label.png', 'output/AVAM_24_pred_label.png', 'output/washmeridian2_pred_label.png', 'output/sharpehealth_pred_label.png', 'output/unzentozen_pred_label.png', 'output/BaltClayworks1_pred_label.png', 'output/newborn1_pred_label.png', 'output/Frederick2_pred_label.png', 'output/Providence_Hospital_20_pred_label.png', 'output/Friends3_pred_label.png', 'output/StLuke_s_labyrinth_from_the_churchyard_pred_label.png', 'output/CommunityMeditation2_pred_label.png', 'output/national2_pred_label.png', 'output/jeremys2_pred_label.png', 'output/WhitWalker_TKF069_pred_label.png', 'output/kids1_pred_label.png', 'output/java2_pred_label.png', 'output/WCI_051_pred_label.png', 'output/Epiphany2_pred_label.png', 'output/stpauls2_pred_label.png', 'output/ARC_of_PG_pred_label.png', 'output/meridian3_pred_label.png', 'output/BaltWash3_pred_label.png', 'output/sharpe1_pred_label.png', 'output/Village_Learning_Place25_pred_label.png', 'output/meridian2_pred_label.png', 'output/Mt_Washington_Arboretum029_pred_label.png', 'output/CBF1_pred_label.png', 'output/Earth2_pred_label.png', 'output/kernan1_pred_label.png', 'output/BaltParksCarmine_pred_label.png', 'output/metro2_pred_label.png', 'output/washingtonmarvin3_pred_label.png', 'output/ARC_of_PG_Dedication_009_pred_label.png', 'output/MD1_pred_label.png', 'output/greenmount_school_garden_pred_label.png', 'output/unity3_pred_label.png', 'output/Govans3_pred_label.png', 'output/leon3_pred_label.png', 'output/BaltWash1_pred_label.png', 'output/A_Wider_Circle_017_pred_label.png', 'output/Franklin3_pred_label.png', 'output/UMCP3_pred_label.png', 'output/StLuke_s_Bethesda_47_pred_label.png', 'output/APA1_pred_label.png', 'output/BaltParkGreenmount_pred_label.png', 'output/A_Wider_Circle_007_pred_label.png', 'output/jeremys3_pred_label.png', 'output/Annapolis_Waterworks3_pred_label.png', 'output/StLuke_s_Bethesda_13_pred_label.png', 'output/Friends2_pred_label.png', 'output/kids3_pred_label.png', 'output/newborn2_pred_label.png', 'output/metro3_pred_label.png', 'output/AnnapolisM1_pred_label.png', 'output/Franklin1_pred_label.png', 'output/kensington_pred_label.png', 'output/upenn1_pred_label.png', 'output/BaltParksCarmine2_pred_label.png', 'output/GeorgetownL3_pred_label.png', 'output/Annapolis_Waterworks1_pred_label.png', 'output/Childrens3_pred_label.png', 'output/BaltClayworks2_pred_label.png', 'output/Thanksgiving_Place_01_pred_label.png', 'output/stanthonys1_pred_label.png', 'output/hopkins2_pred_label.png', 'output/AnnapolisM2_pred_label.png', 'output/java3_pred_label.png', 'output/LHHSPC_015_pred_label.png', 'output/Bates2_pred_label.png', 'output/ARC1_pred_label.png', 'output/CBF3_pred_label.png', 'output/BaltParkDuncanSt(2)_pred_label.png', 'output/GeorgetownL2_pred_label.png', 'output/Frederick1_pred_label.png', 'output/leon2_pred_label.png', 'output/stpauls1_pred_label.png', 'output/Frederick3_pred_label.png', 'output/Bonsec_completed_pred_label.png', 'output/ARC2_pred_label.png', 'output/Marian_House16_pred_label.png', 'output/LHHSPC_028_pred_label.png', 'output/hopkins3_pred_label.png', 'output/WhitWalker_TKF007_pred_label.png', 'output/upenn2_pred_label.png', 'output/grow3_pred_label.png', 'output/Greenspaces2_pred_label.png', 'output/Providence_Hospital_17_pred_label.png', 'output/rocco_buda_playground_pred_label.png', 'output/AnneArundel2_pred_label.png', 'output/grow1_pred_label.png', 'output/NDC1_pred_label.png', 'output/BaltWash2_pred_label.png', 'output/league2_pred_label.png', 'output/ARC3_pred_label.png', 'output/AnneArundel3_pred_label.png', 'output/Epiphany3_pred_label.png', 'output/BaltParkDruidHill_pred_label.png', 'output/Earth1_pred_label.png', 'output/StAnthony_s123_pred_label.png', 'output/Marian_House12_pred_label.png', 'output/PattersonPark022_pred_label.png', 'output/Friends1_pred_label.png', 'output/Crispus2_pred_label.png', 'output/jessup1_pred_label.png', 'output/BaltParkDuncanSt_pred_label.png', 'output/Providence_Hospital_31_pred_label.png', 'output/GreenspacesPenn_pred_label.png', 'output/NDC2_pred_label.png', 'output/Greenspaces3_pred_label.png', 'output/upenn3_pred_label.png', 'output/margo3_pred_label.png', 'output/stpauls3_pred_label.png', 'output/stanthonys2_pred_label.png', 'output/Unity1_pred_label.png', 'output/UMBCbeuys_pred_label.png', 'output/AVAM_17_pred_label.png', 'output/Crispus1_pred_label.png', 'output/Greenspaces1_pred_label.png', 'output/CBF2_pred_label.png', 'output/Mt_Washington_Arboretum028_pred_label.png', 'output/Village_Learning_Place01_pred_label.png', 'output/national3_pred_label.png', 'output/A_Wider_Circle_006_pred_label.png', 'output/Annapolis_Waterworks2_pred_label.png', 'output/washmeridian3_pred_label.png', 'output/Earth3_pred_label.png', 'output/Bonsec_pred_label.png', 'output/Govans2_pred_label.png', 'output/UMCP2_pred_label.png', 'output/grow2_pred_label.png', 'output/washmeridian1_pred_label.png', 'output/stbartholomews_pred_label.png', 'output/Marian_House24_pred_label.png', 'output/CommunityMeditation1_pred_label.png', 'output/kernan3_pred_label.png', 'output/Amazing_Grace_089_pred_label.png', 'output/MD3_pred_label.png', 'output/metro1_pred_label.png', 'output/kids2_pred_label.png', 'output/kernan2_pred_label.png', 'output/newborn3_pred_label.png', 'output/washwatts3_pred_label.png', 'output/APA3_pred_label.png', 'output/Bates3_pred_label.png', 'output/BaltParkEastside_pred_label.png', 'output/league3_pred_label.png', 'output/mtwash1_pred_label.png', 'output/UMCP1_pred_label.png', 'output/GeorgetownL1_pred_label.png', 'output/LHHSPC_023_pred_label.png', 'output/Amazing_Grace_086_pred_label.png', 'output/hopkins1_pred_label.png', 'output/Thanksgiving_Place_65_pred_label.png', 'output/WCI_003_pred_label.png', 'output/washingtonmarvin2_pred_label.png', 'output/margo1_pred_label.png', 'output/Greenmount_School_mosaic_mural_pred_label.png', 'output/NDC3_pred_label.png', 'output/UMBC-Beuys062_pred_label.png', 'output/washwatts2_pred_label.png', 'output/UMBC-Beuys054_pred_label.png', 'output/Village_Learning_Place05_pred_label.png', 'output/ASTT_13_pred_label.png', 'output/rocco_buda_gazebo_pred_label.png', 'output/Patterson_pred_label.png', 'output/BaltParksEdmonson_pred_label.png', 'output/peoples_pred_label.png', 'output/Govans1_pred_label.png', 'output/Franklin2_pred_label.png', 'output/AnnapolisM3_pred_label.png', 'output/Childrens2_pred_label.png', 'output/Crispus3_pred_label.png', 'output/Bates1_pred_label.png', 'output/national1_pred_label.png', 'output/java1_pred_label.png', 'output/CommunityMeditation3_pred_label.png', 'output/meridian1_pred_label.png']\n"
          ],
          "name": "stdout"
        }
      ]
    },
    {
      "cell_type": "code",
      "metadata": {
        "id": "GgCkbPpXa0Lk",
        "colab_type": "code",
        "colab": {}
      },
      "source": [
        "# deeplabv3 - cityscape labels\n",
        "\n",
        "class_names = ['pcnt_road', 'pcnt_sidewalk', 'pcnt_building', 'pcnt_wall', 'pcnt_fence',\n",
        "    'pcnt_pole', 'pcnt_traffic_light', 'pcnt_traffic_sign', 'pcnt_vegetation', 'pcnt_terrain',\n",
        "    'pcnt_sky', 'pcnt_person', 'pcnt_rider', 'pcnt_car', 'pcnt_truck',\n",
        "    'pcnt_bus', 'pcnt_train', 'pcnt_motorcycle', 'pcnt_bicycle', 'pcnt_unlabeled']\n",
        "num_class = len(class_names)\n"
      ],
      "execution_count": 0,
      "outputs": []
    },
    {
      "cell_type": "code",
      "metadata": {
        "id": "PfQXKw2ua0Lo",
        "colab_type": "code",
        "outputId": "ecf3a172-08c2-4909-d1db-a892285df119",
        "colab": {
          "base_uri": "https://localhost:8080/",
          "height": 71
        }
      },
      "source": [
        "# quick check\n",
        "\n",
        "file = output_files[0]\n",
        "\n",
        "print(os.path.basename(file).split('_pred_label.png')[0])\n",
        "\n",
        "pred_label_img = cv2.imread(file, -1)\n",
        "# count how many pixels in pred_label_img which are of object class trainId:\n",
        "pixel_ratio = np.zeros(num_class)\n",
        "for cate_id in range(num_class):\n",
        "    pixel_ratio[cate_id] = np.sum(np.equal(pred_label_img, cate_id))/pred_label_img.size\n",
        "\n",
        "print(pixel_ratio.tolist())"
      ],
      "execution_count": 37,
      "outputs": [
        {
          "output_type": "stream",
          "text": [
            "AVAM_02\n",
            "[0.0, 0.00018328445747800586, 0.09368408190564388, 0.0, 0.0, 0.011353989813242784, 0.0, 0.0014727066934197663, 0.5836741781139064, 0.19049364613880743, 0.04078239954725524, 0.06312059474198693, 0.0, 0.004688223491279519, 3.8586201574317025e-05, 0.0, 0.0, 0.0, 0.0, 0.010508308895405669]\n"
          ],
          "name": "stdout"
        }
      ]
    },
    {
      "cell_type": "code",
      "metadata": {
        "colab_type": "code",
        "id": "WUoEhCbkDaeV",
        "colab": {}
      },
      "source": [
        "#save category ratios to csv file\n",
        "with open('00_object_ratios.csv', 'w') as output:\n",
        "    writer = csv.writer(output)\n",
        "    writer.writerow(['image_name'] + class_names)\n",
        "    \n",
        "    for file in output_files:\n",
        "        img_name = os.path.basename(file).split('_pred_label.png')[0]\n",
        "        pred_label_img = cv2.imread(file, -1)\n",
        "        \n",
        "        # count how many pixels in pred_label_img which are of object class trainId:\n",
        "        pixel_ratio = np.zeros(num_class)\n",
        "        for cate_id in range(num_class):\n",
        "            pixel_ratio[cate_id] = np.sum(np.equal(pred_label_img, cate_id))/pred_label_img.size\n",
        "        \n",
        "        # write to the csv file\n",
        "        writer.writerow([img_name] + pixel_ratio.tolist())\n"
      ],
      "execution_count": 0,
      "outputs": []
    },
    {
      "cell_type": "code",
      "metadata": {
        "id": "IRqBjztia0Ly",
        "colab_type": "code",
        "colab": {
          "base_uri": "https://localhost:8080/",
          "height": 68
        },
        "outputId": "ff0de0b6-c844-46d3-f17e-82b9da36a226"
      },
      "source": [
        "!ls"
      ],
      "execution_count": 39,
      "outputs": [
        {
          "output_type": "stream",
          "text": [
            " 00_object_ratios.csv\t\t\t images307.zip\t       output\n",
            " deeplabv3-semantic-scene-segmentation\t'images307.zip?dl=0'   sample_data\n",
            " images307\t\t\t\t input\n"
          ],
          "name": "stdout"
        }
      ]
    },
    {
      "cell_type": "code",
      "metadata": {
        "id": "pW81VSkeRsvl",
        "colab_type": "code",
        "colab": {}
      },
      "source": [
        "from google.colab import files\n",
        "files.download('00_object_ratios.csv')"
      ],
      "execution_count": 0,
      "outputs": []
    },
    {
      "cell_type": "code",
      "metadata": {
        "id": "PdsSzUsSR0Fx",
        "colab_type": "code",
        "colab": {}
      },
      "source": [
        ""
      ],
      "execution_count": 0,
      "outputs": []
    }
  ]
}