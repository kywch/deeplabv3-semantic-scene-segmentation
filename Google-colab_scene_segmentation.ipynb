{
  "nbformat": 4,
  "nbformat_minor": 0,
  "metadata": {
    "accelerator": "GPU",
    "colab": {
      "name": "evaluation.ipynb",
      "provenance": [],
      "include_colab_link": true
    },
    "kernelspec": {
      "display_name": "Python 3",
      "language": "python",
      "name": "python3"
    },
    "language_info": {
      "codemirror_mode": {
        "name": "ipython",
        "version": 3
      },
      "file_extension": ".py",
      "mimetype": "text/x-python",
      "name": "python",
      "nbconvert_exporter": "python",
      "pygments_lexer": "ipython3",
      "version": "3.7.3"
    }
  },
  "cells": [
    {
      "cell_type": "markdown",
      "metadata": {
        "id": "view-in-github",
        "colab_type": "text"
      },
      "source": [
        "<a href=\"https://colab.research.google.com/github/kywch/deeplabv3-semantic-scene-segmentation/blob/master/Google-colab_scene_segmentation.ipynb\" target=\"_parent\"><img src=\"https://colab.research.google.com/assets/colab-badge.svg\" alt=\"Open In Colab\"/></a>"
      ]
    },
    {
      "cell_type": "code",
      "metadata": {
        "id": "CuCJ8GTxa0Kr",
        "colab_type": "code",
        "outputId": "a559151d-35f8-48c2-b449-9653d7de847b",
        "colab": {
          "base_uri": "https://localhost:8080/",
          "height": 51
        }
      },
      "source": [
        "# check the pytorch installation\n",
        "import torch\n",
        "print(torch.cuda.is_available())       # Should be True\n",
        "print(torch.backends.cudnn.enabled)    # Should be True"
      ],
      "execution_count": 2,
      "outputs": [
        {
          "output_type": "stream",
          "text": [
            "True\n",
            "True\n"
          ],
          "name": "stdout"
        }
      ]
    },
    {
      "cell_type": "code",
      "metadata": {
        "colab_type": "code",
        "id": "LKclAdidKjyQ",
        "colab": {}
      },
      "source": [
        "import torch.utils.data\n",
        "import torch.nn as nn\n",
        "from torch.autograd import Variable\n",
        "import torch.optim as optim\n",
        "import torch.nn.functional as F\n",
        "import os\n",
        "import csv\n",
        "import numpy as np\n",
        "import pickle\n",
        "import matplotlib\n",
        "matplotlib.use(\"Agg\")\n",
        "import matplotlib.pyplot as plt\n",
        "import cv2"
      ],
      "execution_count": 0,
      "outputs": []
    },
    {
      "cell_type": "markdown",
      "metadata": {
        "id": "zznhjiu4LXLR",
        "colab_type": "text"
      },
      "source": [
        "### Cloning the github repository to get the necessary files\n"
      ]
    },
    {
      "cell_type": "code",
      "metadata": {
        "id": "Fglsx-NlLWJT",
        "colab_type": "code",
        "outputId": "563a011b-85da-45fb-e174-26d4253cfe61",
        "colab": {
          "base_uri": "https://localhost:8080/",
          "height": 154
        }
      },
      "source": [
        "!git clone https://github.com/kywch/deeplabv3-semantic-scene-segmentation.git"
      ],
      "execution_count": 4,
      "outputs": [
        {
          "output_type": "stream",
          "text": [
            "Cloning into 'deeplabv3-semantic-scene-segmentation'...\n",
            "remote: Enumerating objects: 74, done.\u001b[K\n",
            "remote: Counting objects: 100% (74/74), done.\u001b[K\n",
            "remote: Compressing objects: 100% (63/63), done.\u001b[K\n",
            "remote: Total 110 (delta 31), reused 32 (delta 10), pack-reused 36\u001b[K\n",
            "Receiving objects: 100% (110/110), 258.73 MiB | 35.83 MiB/s, done.\n",
            "Resolving deltas: 100% (41/41), done.\n",
            "Checking out files: 100% (26/26), done.\n"
          ],
          "name": "stdout"
        }
      ]
    },
    {
      "cell_type": "code",
      "metadata": {
        "id": "hGRogzrMMBUZ",
        "colab_type": "code",
        "outputId": "a5f429fb-e7a9-41ec-ec52-471a1184a087",
        "colab": {
          "base_uri": "https://localhost:8080/",
          "height": 34
        }
      },
      "source": [
        "# git repo files are placed under `deeplabv3-semantic-scene-segmentation\n",
        "!ls"
      ],
      "execution_count": 0,
      "outputs": [
        {
          "output_type": "stream",
          "text": [
            "deeplabv3-semantic-scene-segmentation  sample_data\n"
          ],
          "name": "stdout"
        }
      ]
    },
    {
      "cell_type": "code",
      "metadata": {
        "id": "48TutPhqa0K6",
        "colab_type": "code",
        "colab": {}
      },
      "source": [
        "# loading the files from git repo\n",
        "import sys\n",
        "\n",
        "sys.path.append(\"deeplabv3-semantic-scene-segmentation/deeplabv3\")\n",
        "sys.path.append(\"deeplabv3-semantic-scene-segmentation/deeplabv3/model\")\n",
        "from deeplabv3 import DeepLabV3\n",
        "\n",
        "sys.path.append(\"deeplabv3-semantic-scene-segmentation/deeplabv3/utils\")\n",
        "from utils import label_img_to_color\n"
      ],
      "execution_count": 0,
      "outputs": []
    },
    {
      "cell_type": "markdown",
      "metadata": {
        "id": "60E42uOKMrM1",
        "colab_type": "text"
      },
      "source": [
        "### Download the images to process\n",
        "\n",
        "I am using the example images for this co-lab."
      ]
    },
    {
      "cell_type": "code",
      "metadata": {
        "id": "Vu495A1pMz49",
        "colab_type": "code",
        "outputId": "fb8071bc-164a-4831-949d-268ce1412b61",
        "colab": {
          "base_uri": "https://localhost:8080/",
          "height": 448
        }
      },
      "source": [
        "#!wget https://www.dropbox.com/s/s5pmkr2gqh8dx5p/images307.zip"
      ],
      "execution_count": 6,
      "outputs": [
        {
          "output_type": "stream",
          "text": [
            "--2020-05-29 02:37:01--  https://www.dropbox.com/s/s5pmkr2gqh8dx5p/images307.zip\n",
            "Resolving www.dropbox.com (www.dropbox.com)... 162.125.1.1, 2620:100:6016:1::a27d:101\n",
            "Connecting to www.dropbox.com (www.dropbox.com)|162.125.1.1|:443... connected.\n",
            "HTTP request sent, awaiting response... 301 Moved Permanently\n",
            "Location: /s/raw/s5pmkr2gqh8dx5p/images307.zip [following]\n",
            "--2020-05-29 02:37:01--  https://www.dropbox.com/s/raw/s5pmkr2gqh8dx5p/images307.zip\n",
            "Reusing existing connection to www.dropbox.com:443.\n",
            "HTTP request sent, awaiting response... 302 Found\n",
            "Location: https://uc93ef772b23135463505e21f901.dl.dropboxusercontent.com/cd/0/inline/A4kBcD1Pj6tPUDi7ynK_u5XfuRP6BIoGe5AkLdbKIPQQbyIVYS5jSUxoW747scNidE1UfkHCfoga42ustxOtaOvnjGk_cJZ9BZzKKBB2yfzM6uSeH_FCQlsmTinppieLrgk/file# [following]\n",
            "--2020-05-29 02:37:02--  https://uc93ef772b23135463505e21f901.dl.dropboxusercontent.com/cd/0/inline/A4kBcD1Pj6tPUDi7ynK_u5XfuRP6BIoGe5AkLdbKIPQQbyIVYS5jSUxoW747scNidE1UfkHCfoga42ustxOtaOvnjGk_cJZ9BZzKKBB2yfzM6uSeH_FCQlsmTinppieLrgk/file\n",
            "Resolving uc93ef772b23135463505e21f901.dl.dropboxusercontent.com (uc93ef772b23135463505e21f901.dl.dropboxusercontent.com)... 162.125.1.6, 2620:100:6016:6::a27d:106\n",
            "Connecting to uc93ef772b23135463505e21f901.dl.dropboxusercontent.com (uc93ef772b23135463505e21f901.dl.dropboxusercontent.com)|162.125.1.6|:443... connected.\n",
            "HTTP request sent, awaiting response... 302 FOUND\n",
            "Location: /cd/0/inline2/A4nxA1fp1Rc2OsehtdttvZXkeFyrSd8YnerC1t0ndnQrPm1BIldv3ktaMG3fY7d5tW0eNA_rqfLv7Cet3JcCR0HJ0-Nb9wXtI6g9Fob9vQEPeYianVPcT-04HhR3bBcW_TqBkzS0NQCnf7u7UfIaf2N6aAE5lHbreRKu5ClY253j2LvEZwBv2E_NGoWzkLiy3ZfmFApmE6wZ_soxdmScn8E3BhICzPDiPFrlyHl64QZJFtfuv90CO0r6yBCzBHbKm1juoXbmEXvezOEALq8C2cjglw2w_nD33uVrbHo46mPpOshS3DV_4Mk765Zs3wDjl7bGvii8aYkV2yWB3biMfSkRx7bctoUzERMrDgr7LBje-g/file [following]\n",
            "--2020-05-29 02:37:02--  https://uc93ef772b23135463505e21f901.dl.dropboxusercontent.com/cd/0/inline2/A4nxA1fp1Rc2OsehtdttvZXkeFyrSd8YnerC1t0ndnQrPm1BIldv3ktaMG3fY7d5tW0eNA_rqfLv7Cet3JcCR0HJ0-Nb9wXtI6g9Fob9vQEPeYianVPcT-04HhR3bBcW_TqBkzS0NQCnf7u7UfIaf2N6aAE5lHbreRKu5ClY253j2LvEZwBv2E_NGoWzkLiy3ZfmFApmE6wZ_soxdmScn8E3BhICzPDiPFrlyHl64QZJFtfuv90CO0r6yBCzBHbKm1juoXbmEXvezOEALq8C2cjglw2w_nD33uVrbHo46mPpOshS3DV_4Mk765Zs3wDjl7bGvii8aYkV2yWB3biMfSkRx7bctoUzERMrDgr7LBje-g/file\n",
            "Reusing existing connection to uc93ef772b23135463505e21f901.dl.dropboxusercontent.com:443.\n",
            "HTTP request sent, awaiting response... 200 OK\n",
            "Length: 102362764 (98M) [application/zip]\n",
            "Saving to: ‘images307.zip’\n",
            "\n",
            "images307.zip       100%[===================>]  97.62M  43.5MB/s    in 2.2s    \n",
            "\n",
            "2020-05-29 02:37:05 (43.5 MB/s) - ‘images307.zip’ saved [102362764/102362764]\n",
            "\n"
          ],
          "name": "stdout"
        }
      ]
    },
    {
      "cell_type": "code",
      "metadata": {
        "id": "RwCZFKmrOFz0",
        "colab_type": "code",
        "colab": {}
      },
      "source": [
        "#!ls\n",
        "#!unzip -q images307.zip"
      ],
      "execution_count": 0,
      "outputs": []
    },
    {
      "cell_type": "code",
      "metadata": {
        "id": "iD4-R5iba0K9",
        "colab_type": "code",
        "colab": {}
      },
      "source": [
        "lib_dir = \"deeplabv3-semantic-scene-segmentation/deeplabv3/\"\n",
        "\n",
        "# Specify your output directory\n",
        "input_dir = \"deeplabv3-semantic-scene-segmentation/input\"\n",
        "output_dir = \"output\""
      ],
      "execution_count": 0,
      "outputs": []
    },
    {
      "cell_type": "code",
      "metadata": {
        "colab_type": "code",
        "id": "NmC-ZBGAK388",
        "outputId": "d618057a-bfed-403b-cdb7-7585f24cff5b",
        "colab": {
          "base_uri": "https://localhost:8080/",
          "height": 34
        }
      },
      "source": [
        "network = DeepLabV3(\"eval_val\", project_dir=\"deeplabv3-semantic-scene-segmentation/deeplabv3\", \n",
        "                    pretrained_file=lib_dir+\"resnet18-5c106cde.pth\").cuda()"
      ],
      "execution_count": 19,
      "outputs": [
        {
          "output_type": "stream",
          "text": [
            "pretrained resnet, 18\n"
          ],
          "name": "stdout"
        }
      ]
    },
    {
      "cell_type": "code",
      "metadata": {
        "colab_type": "code",
        "id": "rmbM1O8WK7Tq",
        "outputId": "d4b92005-8efe-4674-d652-c93642b959c9",
        "colab": {
          "base_uri": "https://localhost:8080/",
          "height": 34
        }
      },
      "source": [
        "network.load_state_dict(torch.load(lib_dir+\"model_13_2_2_2_epoch_580.pth\"))"
      ],
      "execution_count": 20,
      "outputs": [
        {
          "output_type": "execute_result",
          "data": {
            "text/plain": [
              "<All keys matched successfully>"
            ]
          },
          "metadata": {
            "tags": []
          },
          "execution_count": 20
        }
      ]
    },
    {
      "cell_type": "code",
      "metadata": {
        "colab_type": "code",
        "id": "B9f4xZx6L7cG",
        "colab": {}
      },
      "source": [
        "class DatasetVal(torch.utils.data.Dataset):\n",
        "    def __init__(self, input_path, output_path):\n",
        "        self.img_dir = input_path\n",
        "        self.img_h = 1024\n",
        "        self.img_w = 2048\n",
        "        self.output_dir = output_path\n",
        "        if not os.path.exists(output_path):\n",
        "            os.makedirs(output_path)\n",
        "        self.debug_dir = output_path + '/debug/'\n",
        "        if not os.path.exists(self.debug_dir):\n",
        "            os.makedirs(self.debug_dir)\n",
        "        \n",
        "        self.examples = []\n",
        "        file_names = os.listdir(self.img_dir)\n",
        "        for file_name in file_names:\n",
        "            if file_name.lower().endswith(('.jpg', '.png', '.jpeg', '.BMP')):\n",
        "                img_id = file_name.split('.')[0]\n",
        "                img_path = self.img_dir + '/' + file_name\n",
        "                example = {}\n",
        "                example[\"img_path\"] = img_path\n",
        "                example[\"img_id\"] = img_id\n",
        "                self.examples.append(example)\n",
        "        #print(self.examples)\n",
        "\n",
        "        self.num_examples = len(self.examples)\n",
        "        print(str(self.num_examples) + \" images were identified from the input directory.\")\n",
        "        \n",
        "    def __getitem__(self, index):\n",
        "        example = self.examples[index]\n",
        "\n",
        "        img_id = example[\"img_id\"]\n",
        "        img_path = example[\"img_path\"]\n",
        "        img = cv2.imread(img_path, -1) # (shape: (1024, 2048, 3))\n",
        "\n",
        "        # normalize the img (with the mean and std for the pretrained ResNet):\n",
        "        img = img/255.0\n",
        "        img = img - np.array([0.485, 0.456, 0.406])\n",
        "        img = img/np.array([0.229, 0.224, 0.225]) # (shape: (512, 1024, 3))\n",
        "        img = np.transpose(img, (2, 0, 1)) # (shape: (3, 512, 1024))\n",
        "        img = img.astype(np.float32)\n",
        "\n",
        "        # convert numpy -> torch:\n",
        "        img = torch.from_numpy(img) # (shape: (3, 512, 1024))\n",
        "        #label_img = torch.from_numpy(label_img) # (shape: (512, 1024))\n",
        "        print(img_id)\n",
        "        return (img, img_id)\n",
        "\n",
        "    def __len__(self):\n",
        "        return self.num_examples\n"
      ],
      "execution_count": 0,
      "outputs": []
    },
    {
      "cell_type": "code",
      "metadata": {
        "colab_type": "code",
        "id": "oFNeJyMDo3O7",
        "outputId": "f2a11cb7-9385-4f90-8b74-c40c45a88542",
        "colab": {
          "base_uri": "https://localhost:8080/",
          "height": 34
        }
      },
      "source": [
        "val_dataset = DatasetVal(input_path=input_dir, output_path=output_dir)"
      ],
      "execution_count": 30,
      "outputs": [
        {
          "output_type": "stream",
          "text": [
            "2 images were identified from the input directory.\n"
          ],
          "name": "stdout"
        }
      ]
    },
    {
      "cell_type": "code",
      "metadata": {
        "id": "Vr1K5FCEa0LQ",
        "colab_type": "code",
        "outputId": "ed2a1672-fd4f-4c68-a190-63c2ffe9ea78",
        "colab": {
          "base_uri": "https://localhost:8080/",
          "height": 86
        }
      },
      "source": [
        "val_dataset.examples"
      ],
      "execution_count": 31,
      "outputs": [
        {
          "output_type": "execute_result",
          "data": {
            "text/plain": [
              "[{'img_id': 'street2',\n",
              "  'img_path': 'deeplabv3-semantic-scene-segmentation/input/street2.jpg'},\n",
              " {'img_id': 'street1',\n",
              "  'img_path': 'deeplabv3-semantic-scene-segmentation/input/street1.jpg'}]"
            ]
          },
          "metadata": {
            "tags": []
          },
          "execution_count": 31
        }
      ]
    },
    {
      "cell_type": "code",
      "metadata": {
        "colab_type": "code",
        "id": "KTeLB2Z8pCBw",
        "colab": {}
      },
      "source": [
        "val_loader = torch.utils.data.DataLoader(dataset=val_dataset,\n",
        "                                         batch_size=1, shuffle=False,\n",
        "                                         num_workers=1)"
      ],
      "execution_count": 0,
      "outputs": []
    },
    {
      "cell_type": "code",
      "metadata": {
        "colab_type": "code",
        "id": "dp03CO2hNKP4",
        "outputId": "be9ae3a2-40f9-4763-d6d5-32e2d6290753",
        "colab": {
          "base_uri": "https://localhost:8080/",
          "height": 1000
        }
      },
      "source": [
        "network.eval()"
      ],
      "execution_count": 33,
      "outputs": [
        {
          "output_type": "execute_result",
          "data": {
            "text/plain": [
              "DeepLabV3(\n",
              "  (resnet): ResNet_BasicBlock_OS8(\n",
              "    (resnet): Sequential(\n",
              "      (0): Conv2d(3, 64, kernel_size=(7, 7), stride=(2, 2), padding=(3, 3), bias=False)\n",
              "      (1): BatchNorm2d(64, eps=1e-05, momentum=0.1, affine=True, track_running_stats=True)\n",
              "      (2): ReLU(inplace=True)\n",
              "      (3): MaxPool2d(kernel_size=3, stride=2, padding=1, dilation=1, ceil_mode=False)\n",
              "      (4): Sequential(\n",
              "        (0): BasicBlock(\n",
              "          (conv1): Conv2d(64, 64, kernel_size=(3, 3), stride=(1, 1), padding=(1, 1), bias=False)\n",
              "          (bn1): BatchNorm2d(64, eps=1e-05, momentum=0.1, affine=True, track_running_stats=True)\n",
              "          (relu): ReLU(inplace=True)\n",
              "          (conv2): Conv2d(64, 64, kernel_size=(3, 3), stride=(1, 1), padding=(1, 1), bias=False)\n",
              "          (bn2): BatchNorm2d(64, eps=1e-05, momentum=0.1, affine=True, track_running_stats=True)\n",
              "        )\n",
              "        (1): BasicBlock(\n",
              "          (conv1): Conv2d(64, 64, kernel_size=(3, 3), stride=(1, 1), padding=(1, 1), bias=False)\n",
              "          (bn1): BatchNorm2d(64, eps=1e-05, momentum=0.1, affine=True, track_running_stats=True)\n",
              "          (relu): ReLU(inplace=True)\n",
              "          (conv2): Conv2d(64, 64, kernel_size=(3, 3), stride=(1, 1), padding=(1, 1), bias=False)\n",
              "          (bn2): BatchNorm2d(64, eps=1e-05, momentum=0.1, affine=True, track_running_stats=True)\n",
              "        )\n",
              "      )\n",
              "      (5): Sequential(\n",
              "        (0): BasicBlock(\n",
              "          (conv1): Conv2d(64, 128, kernel_size=(3, 3), stride=(2, 2), padding=(1, 1), bias=False)\n",
              "          (bn1): BatchNorm2d(128, eps=1e-05, momentum=0.1, affine=True, track_running_stats=True)\n",
              "          (relu): ReLU(inplace=True)\n",
              "          (conv2): Conv2d(128, 128, kernel_size=(3, 3), stride=(1, 1), padding=(1, 1), bias=False)\n",
              "          (bn2): BatchNorm2d(128, eps=1e-05, momentum=0.1, affine=True, track_running_stats=True)\n",
              "          (downsample): Sequential(\n",
              "            (0): Conv2d(64, 128, kernel_size=(1, 1), stride=(2, 2), bias=False)\n",
              "            (1): BatchNorm2d(128, eps=1e-05, momentum=0.1, affine=True, track_running_stats=True)\n",
              "          )\n",
              "        )\n",
              "        (1): BasicBlock(\n",
              "          (conv1): Conv2d(128, 128, kernel_size=(3, 3), stride=(1, 1), padding=(1, 1), bias=False)\n",
              "          (bn1): BatchNorm2d(128, eps=1e-05, momentum=0.1, affine=True, track_running_stats=True)\n",
              "          (relu): ReLU(inplace=True)\n",
              "          (conv2): Conv2d(128, 128, kernel_size=(3, 3), stride=(1, 1), padding=(1, 1), bias=False)\n",
              "          (bn2): BatchNorm2d(128, eps=1e-05, momentum=0.1, affine=True, track_running_stats=True)\n",
              "        )\n",
              "      )\n",
              "    )\n",
              "    (layer4): Sequential(\n",
              "      (0): BasicBlock(\n",
              "        (conv1): Conv2d(128, 256, kernel_size=(3, 3), stride=(1, 1), padding=(2, 2), dilation=(2, 2), bias=False)\n",
              "        (bn1): BatchNorm2d(256, eps=1e-05, momentum=0.1, affine=True, track_running_stats=True)\n",
              "        (conv2): Conv2d(256, 256, kernel_size=(3, 3), stride=(1, 1), padding=(2, 2), dilation=(2, 2), bias=False)\n",
              "        (bn2): BatchNorm2d(256, eps=1e-05, momentum=0.1, affine=True, track_running_stats=True)\n",
              "        (downsample): Sequential(\n",
              "          (0): Conv2d(128, 256, kernel_size=(1, 1), stride=(1, 1), bias=False)\n",
              "          (1): BatchNorm2d(256, eps=1e-05, momentum=0.1, affine=True, track_running_stats=True)\n",
              "        )\n",
              "      )\n",
              "      (1): BasicBlock(\n",
              "        (conv1): Conv2d(256, 256, kernel_size=(3, 3), stride=(1, 1), padding=(2, 2), dilation=(2, 2), bias=False)\n",
              "        (bn1): BatchNorm2d(256, eps=1e-05, momentum=0.1, affine=True, track_running_stats=True)\n",
              "        (conv2): Conv2d(256, 256, kernel_size=(3, 3), stride=(1, 1), padding=(2, 2), dilation=(2, 2), bias=False)\n",
              "        (bn2): BatchNorm2d(256, eps=1e-05, momentum=0.1, affine=True, track_running_stats=True)\n",
              "        (downsample): Sequential()\n",
              "      )\n",
              "    )\n",
              "    (layer5): Sequential(\n",
              "      (0): BasicBlock(\n",
              "        (conv1): Conv2d(256, 512, kernel_size=(3, 3), stride=(1, 1), padding=(4, 4), dilation=(4, 4), bias=False)\n",
              "        (bn1): BatchNorm2d(512, eps=1e-05, momentum=0.1, affine=True, track_running_stats=True)\n",
              "        (conv2): Conv2d(512, 512, kernel_size=(3, 3), stride=(1, 1), padding=(4, 4), dilation=(4, 4), bias=False)\n",
              "        (bn2): BatchNorm2d(512, eps=1e-05, momentum=0.1, affine=True, track_running_stats=True)\n",
              "        (downsample): Sequential(\n",
              "          (0): Conv2d(256, 512, kernel_size=(1, 1), stride=(1, 1), bias=False)\n",
              "          (1): BatchNorm2d(512, eps=1e-05, momentum=0.1, affine=True, track_running_stats=True)\n",
              "        )\n",
              "      )\n",
              "      (1): BasicBlock(\n",
              "        (conv1): Conv2d(512, 512, kernel_size=(3, 3), stride=(1, 1), padding=(4, 4), dilation=(4, 4), bias=False)\n",
              "        (bn1): BatchNorm2d(512, eps=1e-05, momentum=0.1, affine=True, track_running_stats=True)\n",
              "        (conv2): Conv2d(512, 512, kernel_size=(3, 3), stride=(1, 1), padding=(4, 4), dilation=(4, 4), bias=False)\n",
              "        (bn2): BatchNorm2d(512, eps=1e-05, momentum=0.1, affine=True, track_running_stats=True)\n",
              "        (downsample): Sequential()\n",
              "      )\n",
              "    )\n",
              "  )\n",
              "  (aspp): ASPP(\n",
              "    (conv_1x1_1): Conv2d(512, 256, kernel_size=(1, 1), stride=(1, 1))\n",
              "    (bn_conv_1x1_1): BatchNorm2d(256, eps=1e-05, momentum=0.1, affine=True, track_running_stats=True)\n",
              "    (conv_3x3_1): Conv2d(512, 256, kernel_size=(3, 3), stride=(1, 1), padding=(6, 6), dilation=(6, 6))\n",
              "    (bn_conv_3x3_1): BatchNorm2d(256, eps=1e-05, momentum=0.1, affine=True, track_running_stats=True)\n",
              "    (conv_3x3_2): Conv2d(512, 256, kernel_size=(3, 3), stride=(1, 1), padding=(12, 12), dilation=(12, 12))\n",
              "    (bn_conv_3x3_2): BatchNorm2d(256, eps=1e-05, momentum=0.1, affine=True, track_running_stats=True)\n",
              "    (conv_3x3_3): Conv2d(512, 256, kernel_size=(3, 3), stride=(1, 1), padding=(18, 18), dilation=(18, 18))\n",
              "    (bn_conv_3x3_3): BatchNorm2d(256, eps=1e-05, momentum=0.1, affine=True, track_running_stats=True)\n",
              "    (avg_pool): AdaptiveAvgPool2d(output_size=1)\n",
              "    (conv_1x1_2): Conv2d(512, 256, kernel_size=(1, 1), stride=(1, 1))\n",
              "    (bn_conv_1x1_2): BatchNorm2d(256, eps=1e-05, momentum=0.1, affine=True, track_running_stats=True)\n",
              "    (conv_1x1_3): Conv2d(1280, 256, kernel_size=(1, 1), stride=(1, 1))\n",
              "    (bn_conv_1x1_3): BatchNorm2d(256, eps=1e-05, momentum=0.1, affine=True, track_running_stats=True)\n",
              "    (conv_1x1_4): Conv2d(256, 20, kernel_size=(1, 1), stride=(1, 1))\n",
              "  )\n",
              ")"
            ]
          },
          "metadata": {
            "tags": []
          },
          "execution_count": 33
        }
      ]
    },
    {
      "cell_type": "code",
      "metadata": {
        "colab_type": "code",
        "id": "MftPJ76RpC4H",
        "outputId": "fe2981af-1608-431c-ef6c-8e711eb4e003",
        "colab": {
          "base_uri": "https://localhost:8080/",
          "height": 140
        }
      },
      "source": [
        "count = 0\n",
        "\n",
        "#produce labeled image\n",
        "for step, (imgs, img_ids) in enumerate(val_loader):\n",
        "    #print(img_ids)\n",
        "    with torch.no_grad(): # (corresponds to setting volatile=True in all variables, this is done during inference to reduce memory consumption)\n",
        "        imgs = Variable(imgs).cuda() # (shape: (batch_size, 3, img_h, img_w))\n",
        "        outputs = network(imgs) # (shape: (batch_size, num_classes, img_h, img_w))\n",
        "  \n",
        "        ########################################################################\n",
        "        # save data for visualization:\n",
        "        ########################################################################\n",
        "        \n",
        "        outputs = outputs.data.cpu().numpy() # (shape: (batch_size, num_classes, img_h, img_w))\n",
        "        pred_label_imgs = np.argmax(outputs, axis=1) # (shape: (batch_size, img_h, img_w))\n",
        "        pred_label_imgs = pred_label_imgs.astype(np.uint8)\n",
        "\n",
        "        for i in range(pred_label_imgs.shape[0]):\n",
        "            if i == 0:\n",
        "                pred_label_img = pred_label_imgs[i] # (shape: (img_h, img_w))\n",
        "                img_id = img_ids[i]\n",
        "                img = imgs[i] # (shape: (3, img_h, img_w))\n",
        "\n",
        "                img = img.data.cpu().numpy()\n",
        "                img = np.transpose(img, (1, 2, 0)) # (shape: (img_h, img_w, 3))\n",
        "                img = img*np.array([0.229, 0.224, 0.225])\n",
        "                img = img + np.array([0.485, 0.456, 0.406])\n",
        "                img = img*255.0\n",
        "                img = img.astype(np.uint8)\n",
        "\n",
        "                pred_label_img_color = label_img_to_color(pred_label_img)\n",
        "                overlayed_img = 0.35*img + 0.65*pred_label_img_color\n",
        "                overlayed_img = overlayed_img.astype(np.uint8)\n",
        "                #producing original predicted images\n",
        "                cv2.imwrite(val_dataset.output_dir + \"/\" + img_id + \"_pred_label.png\", pred_label_img )\n",
        "                \n",
        "                # produce debugging info for the first 10 images\n",
        "                if count < 100:\n",
        "                    #producing colored predicted images\n",
        "                    cv2.imwrite(val_dataset.debug_dir + \"/\" + img_id + \"_pred_label_colorimg.png\", pred_label_img_color )\n",
        "                    #producing overlayed images\n",
        "                    cv2.imwrite(val_dataset.debug_dir + \"/\" + img_id + \"_overlayed.png\", overlayed_img)\n",
        "                \n",
        "\n",
        "        ########################################################################\n",
        "        # quick counting\n",
        "        ########################################################################\n",
        "        count += 1\n",
        "                "
      ],
      "execution_count": 34,
      "outputs": [
        {
          "output_type": "stream",
          "text": [
            "street2\n",
            "street1\n"
          ],
          "name": "stdout"
        },
        {
          "output_type": "stream",
          "text": [
            "/usr/local/lib/python3.6/dist-packages/torch/nn/functional.py:2796: UserWarning: nn.functional.upsample is deprecated. Use nn.functional.interpolate instead.\n",
            "  warnings.warn(\"nn.functional.upsample is deprecated. Use nn.functional.interpolate instead.\")\n",
            "/usr/local/lib/python3.6/dist-packages/torch/nn/functional.py:2973: UserWarning: Default upsampling behavior when mode=bilinear is changed to align_corners=False since 0.4.0. Please specify align_corners=True if the old behavior is desired. See the documentation of nn.Upsample for details.\n",
            "  \"See the documentation of nn.Upsample for details.\".format(mode))\n"
          ],
          "name": "stderr"
        }
      ]
    },
    {
      "cell_type": "code",
      "metadata": {
        "colab_type": "code",
        "id": "HC9-m9Bz3AJN",
        "colab": {}
      },
      "source": [
        "# generate the summary csv file from the labeled files\n",
        "import glob\n",
        "output_files = glob.glob(val_dataset.output_dir + \"/*pred_label.png\")"
      ],
      "execution_count": 0,
      "outputs": []
    },
    {
      "cell_type": "code",
      "metadata": {
        "id": "_oKt265Qa0Li",
        "colab_type": "code",
        "outputId": "a0545be3-9cb7-428b-9167-fe7df1642bcb",
        "colab": {
          "base_uri": "https://localhost:8080/",
          "height": 71
        }
      },
      "source": [
        "print(val_dataset.output_dir)\n",
        "print(output_files)"
      ],
      "execution_count": 36,
      "outputs": [
        {
          "output_type": "stream",
          "text": [
            "output\n",
            "['output/AVAM_02_pred_label.png', 'output/BaltParksKeySchool_pred_label.png', 'output/Childrens1_pred_label.png', 'output/APA2_pred_label.png', 'output/PattersonPark029_pred_label.png', 'output/league1_pred_label.png', 'output/ASTT_17_pred_label.png', 'output/street2_pred_label.png', 'output/Epiphany1_pred_label.png', 'output/jeremys1_pred_label.png', 'output/BaltParkReservoir_pred_label.png', 'output/MD2_pred_label.png', 'output/BaltParksDSC_pred_label.png', 'output/BaltClayworks3_pred_label.png', 'output/washingtonmarvin1_pred_label.png', 'output/Georgetowneast_pred_label.png', 'output/washwatts1_pred_label.png', 'output/ASTT_07_pred_label.png', 'output/Congressional_pred_label.png', 'output/margo2_pred_label.png', 'output/jessup2_pred_label.png', 'output/sharpe2_pred_label.png', 'output/rocco_buda_after_pred_label.png', 'output/Amazing_Grace_087_pred_label.png', 'output/Thanksgiving_Place_69_pred_label.png', 'output/WCI_007_pred_label.png', 'output/unity2_pred_label.png', 'output/WhitWalker_TKF049_pred_label.png', 'output/jessup3_pred_label.png', 'output/ARC_of_PG_Dedication_028_pred_label.png', 'output/AnneArundel1_pred_label.png', 'output/leon1_pred_label.png', 'output/AVAM_24_pred_label.png', 'output/washmeridian2_pred_label.png', 'output/sharpehealth_pred_label.png', 'output/unzentozen_pred_label.png', 'output/BaltClayworks1_pred_label.png', 'output/newborn1_pred_label.png', 'output/Frederick2_pred_label.png', 'output/Providence_Hospital_20_pred_label.png', 'output/Friends3_pred_label.png', 'output/StLuke_s_labyrinth_from_the_churchyard_pred_label.png', 'output/CommunityMeditation2_pred_label.png', 'output/national2_pred_label.png', 'output/jeremys2_pred_label.png', 'output/WhitWalker_TKF069_pred_label.png', 'output/kids1_pred_label.png', 'output/java2_pred_label.png', 'output/WCI_051_pred_label.png', 'output/Epiphany2_pred_label.png', 'output/stpauls2_pred_label.png', 'output/ARC_of_PG_pred_label.png', 'output/meridian3_pred_label.png', 'output/BaltWash3_pred_label.png', 'output/sharpe1_pred_label.png', 'output/Village_Learning_Place25_pred_label.png', 'output/meridian2_pred_label.png', 'output/Mt_Washington_Arboretum029_pred_label.png', 'output/CBF1_pred_label.png', 'output/Earth2_pred_label.png', 'output/kernan1_pred_label.png', 'output/BaltParksCarmine_pred_label.png', 'output/metro2_pred_label.png', 'output/washingtonmarvin3_pred_label.png', 'output/ARC_of_PG_Dedication_009_pred_label.png', 'output/MD1_pred_label.png', 'output/greenmount_school_garden_pred_label.png', 'output/unity3_pred_label.png', 'output/Govans3_pred_label.png', 'output/leon3_pred_label.png', 'output/BaltWash1_pred_label.png', 'output/A_Wider_Circle_017_pred_label.png', 'output/Franklin3_pred_label.png', 'output/UMCP3_pred_label.png', 'output/StLuke_s_Bethesda_47_pred_label.png', 'output/APA1_pred_label.png', 'output/BaltParkGreenmount_pred_label.png', 'output/A_Wider_Circle_007_pred_label.png', 'output/jeremys3_pred_label.png', 'output/Annapolis_Waterworks3_pred_label.png', 'output/StLuke_s_Bethesda_13_pred_label.png', 'output/Friends2_pred_label.png', 'output/kids3_pred_label.png', 'output/newborn2_pred_label.png', 'output/metro3_pred_label.png', 'output/AnnapolisM1_pred_label.png', 'output/Franklin1_pred_label.png', 'output/kensington_pred_label.png', 'output/upenn1_pred_label.png', 'output/BaltParksCarmine2_pred_label.png', 'output/GeorgetownL3_pred_label.png', 'output/Annapolis_Waterworks1_pred_label.png', 'output/Childrens3_pred_label.png', 'output/BaltClayworks2_pred_label.png', 'output/Thanksgiving_Place_01_pred_label.png', 'output/stanthonys1_pred_label.png', 'output/hopkins2_pred_label.png', 'output/AnnapolisM2_pred_label.png', 'output/java3_pred_label.png', 'output/LHHSPC_015_pred_label.png', 'output/Bates2_pred_label.png', 'output/ARC1_pred_label.png', 'output/CBF3_pred_label.png', 'output/BaltParkDuncanSt(2)_pred_label.png', 'output/GeorgetownL2_pred_label.png', 'output/Frederick1_pred_label.png', 'output/leon2_pred_label.png', 'output/stpauls1_pred_label.png', 'output/Frederick3_pred_label.png', 'output/Bonsec_completed_pred_label.png', 'output/ARC2_pred_label.png', 'output/Marian_House16_pred_label.png', 'output/LHHSPC_028_pred_label.png', 'output/hopkins3_pred_label.png', 'output/WhitWalker_TKF007_pred_label.png', 'output/upenn2_pred_label.png', 'output/grow3_pred_label.png', 'output/Greenspaces2_pred_label.png', 'output/Providence_Hospital_17_pred_label.png', 'output/rocco_buda_playground_pred_label.png', 'output/AnneArundel2_pred_label.png', 'output/grow1_pred_label.png', 'output/NDC1_pred_label.png', 'output/BaltWash2_pred_label.png', 'output/league2_pred_label.png', 'output/ARC3_pred_label.png', 'output/AnneArundel3_pred_label.png', 'output/Epiphany3_pred_label.png', 'output/BaltParkDruidHill_pred_label.png', 'output/Earth1_pred_label.png', 'output/StAnthony_s123_pred_label.png', 'output/Marian_House12_pred_label.png', 'output/PattersonPark022_pred_label.png', 'output/Friends1_pred_label.png', 'output/Crispus2_pred_label.png', 'output/jessup1_pred_label.png', 'output/BaltParkDuncanSt_pred_label.png', 'output/Providence_Hospital_31_pred_label.png', 'output/GreenspacesPenn_pred_label.png', 'output/NDC2_pred_label.png', 'output/Greenspaces3_pred_label.png', 'output/upenn3_pred_label.png', 'output/margo3_pred_label.png', 'output/stpauls3_pred_label.png', 'output/stanthonys2_pred_label.png', 'output/Unity1_pred_label.png', 'output/UMBCbeuys_pred_label.png', 'output/AVAM_17_pred_label.png', 'output/Crispus1_pred_label.png', 'output/street1_pred_label.png', 'output/Greenspaces1_pred_label.png', 'output/CBF2_pred_label.png', 'output/Mt_Washington_Arboretum028_pred_label.png', 'output/Village_Learning_Place01_pred_label.png', 'output/national3_pred_label.png', 'output/A_Wider_Circle_006_pred_label.png', 'output/Annapolis_Waterworks2_pred_label.png', 'output/washmeridian3_pred_label.png', 'output/Earth3_pred_label.png', 'output/Bonsec_pred_label.png', 'output/Govans2_pred_label.png', 'output/UMCP2_pred_label.png', 'output/grow2_pred_label.png', 'output/washmeridian1_pred_label.png', 'output/stbartholomews_pred_label.png', 'output/Marian_House24_pred_label.png', 'output/CommunityMeditation1_pred_label.png', 'output/kernan3_pred_label.png', 'output/Amazing_Grace_089_pred_label.png', 'output/MD3_pred_label.png', 'output/metro1_pred_label.png', 'output/kids2_pred_label.png', 'output/kernan2_pred_label.png', 'output/newborn3_pred_label.png', 'output/washwatts3_pred_label.png', 'output/APA3_pred_label.png', 'output/Bates3_pred_label.png', 'output/BaltParkEastside_pred_label.png', 'output/league3_pred_label.png', 'output/mtwash1_pred_label.png', 'output/UMCP1_pred_label.png', 'output/GeorgetownL1_pred_label.png', 'output/LHHSPC_023_pred_label.png', 'output/Amazing_Grace_086_pred_label.png', 'output/hopkins1_pred_label.png', 'output/Thanksgiving_Place_65_pred_label.png', 'output/WCI_003_pred_label.png', 'output/washingtonmarvin2_pred_label.png', 'output/margo1_pred_label.png', 'output/Greenmount_School_mosaic_mural_pred_label.png', 'output/NDC3_pred_label.png', 'output/UMBC-Beuys062_pred_label.png', 'output/washwatts2_pred_label.png', 'output/UMBC-Beuys054_pred_label.png', 'output/Village_Learning_Place05_pred_label.png', 'output/ASTT_13_pred_label.png', 'output/rocco_buda_gazebo_pred_label.png', 'output/Patterson_pred_label.png', 'output/BaltParksEdmonson_pred_label.png', 'output/peoples_pred_label.png', 'output/Govans1_pred_label.png', 'output/Franklin2_pred_label.png', 'output/AnnapolisM3_pred_label.png', 'output/Childrens2_pred_label.png', 'output/Crispus3_pred_label.png', 'output/Bates1_pred_label.png', 'output/national1_pred_label.png', 'output/java1_pred_label.png', 'output/CommunityMeditation3_pred_label.png', 'output/meridian1_pred_label.png']\n"
          ],
          "name": "stdout"
        }
      ]
    },
    {
      "cell_type": "code",
      "metadata": {
        "id": "GgCkbPpXa0Lk",
        "colab_type": "code",
        "colab": {}
      },
      "source": [
        "# deeplabv3 - cityscape labels\n",
        "\n",
        "class_names = ['pcnt_road', 'pcnt_sidewalk', 'pcnt_building', 'pcnt_wall', 'pcnt_fence',\n",
        "    'pcnt_pole', 'pcnt_traffic_light', 'pcnt_traffic_sign', 'pcnt_vegetation', 'pcnt_terrain',\n",
        "    'pcnt_sky', 'pcnt_person', 'pcnt_rider', 'pcnt_car', 'pcnt_truck',\n",
        "    'pcnt_bus', 'pcnt_train', 'pcnt_motorcycle', 'pcnt_bicycle', 'pcnt_unlabeled']\n",
        "num_class = len(class_names)\n"
      ],
      "execution_count": 0,
      "outputs": []
    },
    {
      "cell_type": "code",
      "metadata": {
        "id": "PfQXKw2ua0Lo",
        "colab_type": "code",
        "outputId": "ecf3a172-08c2-4909-d1db-a892285df119",
        "colab": {
          "base_uri": "https://localhost:8080/",
          "height": 71
        }
      },
      "source": [
        "# quick check\n",
        "\n",
        "file = output_files[0]\n",
        "\n",
        "print(os.path.basename(file).split('_pred_label.png')[0])\n",
        "\n",
        "pred_label_img = cv2.imread(file, -1)\n",
        "# count how many pixels in pred_label_img which are of object class trainId:\n",
        "pixel_ratio = np.zeros(num_class)\n",
        "for cate_id in range(num_class):\n",
        "    pixel_ratio[cate_id] = np.sum(np.equal(pred_label_img, cate_id))/pred_label_img.size\n",
        "\n",
        "print(pixel_ratio.tolist())"
      ],
      "execution_count": 0,
      "outputs": [
        {
          "output_type": "stream",
          "text": [
            "AVAM_02\n",
            "[0.0, 0.00018328445747800586, 0.09368408190564388, 0.0, 0.0, 0.011353989813242784, 0.0, 0.0014727066934197663, 0.5836741781139064, 0.19049364613880743, 0.04078239954725524, 0.06312059474198693, 0.0, 0.004688223491279519, 3.8586201574317025e-05, 0.0, 0.0, 0.0, 0.0, 0.010508308895405669]\n"
          ],
          "name": "stdout"
        }
      ]
    },
    {
      "cell_type": "code",
      "metadata": {
        "colab_type": "code",
        "id": "WUoEhCbkDaeV",
        "colab": {}
      },
      "source": [
        "#save category ratios to csv file\n",
        "with open('00_object_ratios.csv', 'w') as output:\n",
        "    writer = csv.writer(output)\n",
        "    writer.writerow(['image_name'] + class_names)\n",
        "    \n",
        "    for file in output_files:\n",
        "        img_name = os.path.basename(file).split('_pred_label.png')[0]\n",
        "        pred_label_img = cv2.imread(file, -1)\n",
        "        \n",
        "        # count how many pixels in pred_label_img which are of object class trainId:\n",
        "        pixel_ratio = np.zeros(num_class)\n",
        "        for cate_id in range(num_class):\n",
        "            pixel_ratio[cate_id] = np.sum(np.equal(pred_label_img, cate_id))/pred_label_img.size\n",
        "        \n",
        "        # write to the csv file\n",
        "        writer.writerow([img_name] + pixel_ratio.tolist())\n"
      ],
      "execution_count": 0,
      "outputs": []
    },
    {
      "cell_type": "code",
      "metadata": {
        "id": "IRqBjztia0Ly",
        "colab_type": "code",
        "outputId": "ff0de0b6-c844-46d3-f17e-82b9da36a226",
        "colab": {
          "base_uri": "https://localhost:8080/",
          "height": 68
        }
      },
      "source": [
        "!ls"
      ],
      "execution_count": 0,
      "outputs": [
        {
          "output_type": "stream",
          "text": [
            " 00_object_ratios.csv\t\t\t images307.zip\t       output\n",
            " deeplabv3-semantic-scene-segmentation\t'images307.zip?dl=0'   sample_data\n",
            " images307\t\t\t\t input\n"
          ],
          "name": "stdout"
        }
      ]
    },
    {
      "cell_type": "code",
      "metadata": {
        "id": "pW81VSkeRsvl",
        "colab_type": "code",
        "colab": {}
      },
      "source": [
        "from google.colab import files\n",
        "files.download('00_object_ratios.csv')"
      ],
      "execution_count": 0,
      "outputs": []
    },
    {
      "cell_type": "code",
      "metadata": {
        "id": "PdsSzUsSR0Fx",
        "colab_type": "code",
        "colab": {}
      },
      "source": [
        ""
      ],
      "execution_count": 0,
      "outputs": []
    }
  ]
}