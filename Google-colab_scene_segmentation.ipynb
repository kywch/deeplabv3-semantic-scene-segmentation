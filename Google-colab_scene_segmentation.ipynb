{
  "nbformat": 4,
  "nbformat_minor": 0,
  "metadata": {
    "accelerator": "GPU",
    "colab": {
      "name": "evaluation.ipynb",
      "provenance": [],
      "include_colab_link": true
    },
    "kernelspec": {
      "display_name": "Python 3",
      "language": "python",
      "name": "python3"
    },
    "language_info": {
      "codemirror_mode": {
        "name": "ipython",
        "version": 3
      },
      "file_extension": ".py",
      "mimetype": "text/x-python",
      "name": "python",
      "nbconvert_exporter": "python",
      "pygments_lexer": "ipython3",
      "version": "3.7.3"
    }
  },
  "cells": [
    {
      "cell_type": "markdown",
      "metadata": {
        "id": "view-in-github",
        "colab_type": "text"
      },
      "source": [
        "<a href=\"https://colab.research.google.com/github/kywch/deeplabv3-semantic-scene-segmentation/blob/master/Google-colab_scene_segmentation.ipynb\" target=\"_parent\"><img src=\"https://colab.research.google.com/assets/colab-badge.svg\" alt=\"Open In Colab\"/></a>"
      ]
    },
    {
      "cell_type": "code",
      "metadata": {
        "id": "CuCJ8GTxa0Kr",
        "colab_type": "code",
        "outputId": "47b84acf-bddd-485a-a34b-f6ec0f67143b",
        "colab": {
          "base_uri": "https://localhost:8080/",
          "height": 51
        }
      },
      "source": [
        "# check the pytorch installation\n",
        "import torch\n",
        "print(torch.cuda.is_available())       # Should be True\n",
        "print(torch.backends.cudnn.enabled)    # Should be True"
      ],
      "execution_count": 0,
      "outputs": [
        {
          "output_type": "stream",
          "text": [
            "True\n",
            "True\n"
          ],
          "name": "stdout"
        }
      ]
    },
    {
      "cell_type": "code",
      "metadata": {
        "colab_type": "code",
        "id": "LKclAdidKjyQ",
        "colab": {}
      },
      "source": [
        "import torch.utils.data\n",
        "import torch.nn as nn\n",
        "from torch.autograd import Variable\n",
        "import torch.optim as optim\n",
        "import torch.nn.functional as F\n",
        "import os\n",
        "import csv\n",
        "import numpy as np\n",
        "import pickle\n",
        "import matplotlib\n",
        "matplotlib.use(\"Agg\")\n",
        "import matplotlib.pyplot as plt\n",
        "import cv2"
      ],
      "execution_count": 0,
      "outputs": []
    },
    {
      "cell_type": "markdown",
      "metadata": {
        "id": "zznhjiu4LXLR",
        "colab_type": "text"
      },
      "source": [
        "### Cloning the github repository to get the necessary files\n"
      ]
    },
    {
      "cell_type": "code",
      "metadata": {
        "id": "Fglsx-NlLWJT",
        "colab_type": "code",
        "outputId": "74d8375b-a2be-4e9e-ba92-ae3f6b83e292",
        "colab": {
          "base_uri": "https://localhost:8080/",
          "height": 34
        }
      },
      "source": [
        "!git clone https://github.com/kywch/deeplabv3-semantic-scene-segmentation.git"
      ],
      "execution_count": 0,
      "outputs": [
        {
          "output_type": "stream",
          "text": [
            "fatal: destination path 'deeplabv3-semantic-scene-segmentation' already exists and is not an empty directory.\n"
          ],
          "name": "stdout"
        }
      ]
    },
    {
      "cell_type": "code",
      "metadata": {
        "id": "hGRogzrMMBUZ",
        "colab_type": "code",
        "outputId": "ad8aba72-49cc-4ddf-d456-e993cff0d884",
        "colab": {
          "base_uri": "https://localhost:8080/",
          "height": 51
        }
      },
      "source": [
        "# git repo files are placed under `deeplabv3-semantic-scene-segmentation\n",
        "!ls"
      ],
      "execution_count": 0,
      "outputs": [
        {
          "output_type": "stream",
          "text": [
            "deeplabv3-semantic-scene-segmentation  images307.zip  sample_data\n",
            "images307\t\t\t       output\n"
          ],
          "name": "stdout"
        }
      ]
    },
    {
      "cell_type": "code",
      "metadata": {
        "id": "48TutPhqa0K6",
        "colab_type": "code",
        "colab": {}
      },
      "source": [
        "# loading the files from git repo\n",
        "import sys\n",
        "\n",
        "sys.path.append(\"deeplabv3-semantic-scene-segmentation/deeplabv3\")\n",
        "sys.path.append(\"deeplabv3-semantic-scene-segmentation/deeplabv3/model\")\n",
        "from deeplabv3 import DeepLabV3\n",
        "\n",
        "sys.path.append(\"deeplabv3-semantic-scene-segmentation/deeplabv3/utils\")\n",
        "from utils import label_img_to_color\n"
      ],
      "execution_count": 0,
      "outputs": []
    },
    {
      "cell_type": "markdown",
      "metadata": {
        "id": "60E42uOKMrM1",
        "colab_type": "text"
      },
      "source": [
        "### Download the images to process\n",
        "\n",
        "I am using the example images for this co-lab."
      ]
    },
    {
      "cell_type": "code",
      "metadata": {
        "id": "Vu495A1pMz49",
        "colab_type": "code",
        "outputId": "fb8071bc-164a-4831-949d-268ce1412b61",
        "colab": {
          "base_uri": "https://localhost:8080/",
          "height": 448
        }
      },
      "source": [
        "#!wget https://www.dropbox.com/s/s5pmkr2gqh8dx5p/images307.zip"
      ],
      "execution_count": 0,
      "outputs": [
        {
          "output_type": "stream",
          "text": [
            "--2020-05-29 02:37:01--  https://www.dropbox.com/s/s5pmkr2gqh8dx5p/images307.zip\n",
            "Resolving www.dropbox.com (www.dropbox.com)... 162.125.1.1, 2620:100:6016:1::a27d:101\n",
            "Connecting to www.dropbox.com (www.dropbox.com)|162.125.1.1|:443... connected.\n",
            "HTTP request sent, awaiting response... 301 Moved Permanently\n",
            "Location: /s/raw/s5pmkr2gqh8dx5p/images307.zip [following]\n",
            "--2020-05-29 02:37:01--  https://www.dropbox.com/s/raw/s5pmkr2gqh8dx5p/images307.zip\n",
            "Reusing existing connection to www.dropbox.com:443.\n",
            "HTTP request sent, awaiting response... 302 Found\n",
            "Location: https://uc93ef772b23135463505e21f901.dl.dropboxusercontent.com/cd/0/inline/A4kBcD1Pj6tPUDi7ynK_u5XfuRP6BIoGe5AkLdbKIPQQbyIVYS5jSUxoW747scNidE1UfkHCfoga42ustxOtaOvnjGk_cJZ9BZzKKBB2yfzM6uSeH_FCQlsmTinppieLrgk/file# [following]\n",
            "--2020-05-29 02:37:02--  https://uc93ef772b23135463505e21f901.dl.dropboxusercontent.com/cd/0/inline/A4kBcD1Pj6tPUDi7ynK_u5XfuRP6BIoGe5AkLdbKIPQQbyIVYS5jSUxoW747scNidE1UfkHCfoga42ustxOtaOvnjGk_cJZ9BZzKKBB2yfzM6uSeH_FCQlsmTinppieLrgk/file\n",
            "Resolving uc93ef772b23135463505e21f901.dl.dropboxusercontent.com (uc93ef772b23135463505e21f901.dl.dropboxusercontent.com)... 162.125.1.6, 2620:100:6016:6::a27d:106\n",
            "Connecting to uc93ef772b23135463505e21f901.dl.dropboxusercontent.com (uc93ef772b23135463505e21f901.dl.dropboxusercontent.com)|162.125.1.6|:443... connected.\n",
            "HTTP request sent, awaiting response... 302 FOUND\n",
            "Location: /cd/0/inline2/A4nxA1fp1Rc2OsehtdttvZXkeFyrSd8YnerC1t0ndnQrPm1BIldv3ktaMG3fY7d5tW0eNA_rqfLv7Cet3JcCR0HJ0-Nb9wXtI6g9Fob9vQEPeYianVPcT-04HhR3bBcW_TqBkzS0NQCnf7u7UfIaf2N6aAE5lHbreRKu5ClY253j2LvEZwBv2E_NGoWzkLiy3ZfmFApmE6wZ_soxdmScn8E3BhICzPDiPFrlyHl64QZJFtfuv90CO0r6yBCzBHbKm1juoXbmEXvezOEALq8C2cjglw2w_nD33uVrbHo46mPpOshS3DV_4Mk765Zs3wDjl7bGvii8aYkV2yWB3biMfSkRx7bctoUzERMrDgr7LBje-g/file [following]\n",
            "--2020-05-29 02:37:02--  https://uc93ef772b23135463505e21f901.dl.dropboxusercontent.com/cd/0/inline2/A4nxA1fp1Rc2OsehtdttvZXkeFyrSd8YnerC1t0ndnQrPm1BIldv3ktaMG3fY7d5tW0eNA_rqfLv7Cet3JcCR0HJ0-Nb9wXtI6g9Fob9vQEPeYianVPcT-04HhR3bBcW_TqBkzS0NQCnf7u7UfIaf2N6aAE5lHbreRKu5ClY253j2LvEZwBv2E_NGoWzkLiy3ZfmFApmE6wZ_soxdmScn8E3BhICzPDiPFrlyHl64QZJFtfuv90CO0r6yBCzBHbKm1juoXbmEXvezOEALq8C2cjglw2w_nD33uVrbHo46mPpOshS3DV_4Mk765Zs3wDjl7bGvii8aYkV2yWB3biMfSkRx7bctoUzERMrDgr7LBje-g/file\n",
            "Reusing existing connection to uc93ef772b23135463505e21f901.dl.dropboxusercontent.com:443.\n",
            "HTTP request sent, awaiting response... 200 OK\n",
            "Length: 102362764 (98M) [application/zip]\n",
            "Saving to: ‘images307.zip’\n",
            "\n",
            "images307.zip       100%[===================>]  97.62M  43.5MB/s    in 2.2s    \n",
            "\n",
            "2020-05-29 02:37:05 (43.5 MB/s) - ‘images307.zip’ saved [102362764/102362764]\n",
            "\n"
          ],
          "name": "stdout"
        }
      ]
    },
    {
      "cell_type": "code",
      "metadata": {
        "id": "RwCZFKmrOFz0",
        "colab_type": "code",
        "colab": {}
      },
      "source": [
        "#!ls\n",
        "#!unzip -q images307.zip"
      ],
      "execution_count": 0,
      "outputs": []
    },
    {
      "cell_type": "code",
      "metadata": {
        "id": "iD4-R5iba0K9",
        "colab_type": "code",
        "colab": {}
      },
      "source": [
        "lib_dir = \"deeplabv3-semantic-scene-segmentation/deeplabv3/\"\n",
        "\n",
        "# Specify your output directory\n",
        "#input_dir = \"images307\" # the image folder from the downloaded file\n",
        "input_dir = \"deeplabv3-semantic-scene-segmentation/input\"\n",
        "output_dir = \"output\""
      ],
      "execution_count": 0,
      "outputs": []
    },
    {
      "cell_type": "code",
      "metadata": {
        "colab_type": "code",
        "id": "NmC-ZBGAK388",
        "outputId": "a68ff9b2-fc8d-4445-8e99-34a2b9a9a421",
        "colab": {
          "base_uri": "https://localhost:8080/",
          "height": 34
        }
      },
      "source": [
        "network = DeepLabV3(\"eval_val\", project_dir=\"deeplabv3-semantic-scene-segmentation/deeplabv3\", \n",
        "                    pretrained_file=lib_dir+\"resnet18-5c106cde.pth\").cuda()"
      ],
      "execution_count": 0,
      "outputs": [
        {
          "output_type": "stream",
          "text": [
            "pretrained resnet, 18\n"
          ],
          "name": "stdout"
        }
      ]
    },
    {
      "cell_type": "code",
      "metadata": {
        "colab_type": "code",
        "id": "rmbM1O8WK7Tq",
        "outputId": "0f7b66f0-f32f-4821-fb45-e6c98aab5d91",
        "colab": {
          "base_uri": "https://localhost:8080/",
          "height": 34
        }
      },
      "source": [
        "network.load_state_dict(torch.load(lib_dir+\"model_13_2_2_2_epoch_580.pth\"))"
      ],
      "execution_count": 0,
      "outputs": [
        {
          "output_type": "execute_result",
          "data": {
            "text/plain": [
              "<All keys matched successfully>"
            ]
          },
          "metadata": {
            "tags": []
          },
          "execution_count": 46
        }
      ]
    },
    {
      "cell_type": "code",
      "metadata": {
        "colab_type": "code",
        "id": "B9f4xZx6L7cG",
        "colab": {}
      },
      "source": [
        "class DatasetVal(torch.utils.data.Dataset):\n",
        "    def __init__(self, input_path, output_path):\n",
        "        self.img_dir = input_path\n",
        "        self.img_h = 1024\n",
        "        self.img_w = 2048\n",
        "        self.output_dir = output_path\n",
        "        if not os.path.exists(output_path):\n",
        "            os.makedirs(output_path)\n",
        "        self.debug_dir = output_path + '/debug/'\n",
        "        if not os.path.exists(self.debug_dir):\n",
        "            os.makedirs(self.debug_dir)\n",
        "        \n",
        "        self.examples = []\n",
        "        file_names = os.listdir(self.img_dir)\n",
        "        for file_name in file_names:\n",
        "            if file_name.lower().endswith(('.jpg', '.png', '.jpeg', '.BMP')):\n",
        "                img_id = file_name.split('.')[0]\n",
        "                img_path = self.img_dir + '/' + file_name\n",
        "                example = {}\n",
        "                example[\"img_path\"] = img_path\n",
        "                example[\"img_id\"] = img_id\n",
        "                self.examples.append(example)\n",
        "        #print(self.examples)\n",
        "\n",
        "        self.num_examples = len(self.examples)\n",
        "        print(str(self.num_examples) + \" images were identified from the input directory.\")\n",
        "        \n",
        "    def __getitem__(self, index):\n",
        "        example = self.examples[index]\n",
        "\n",
        "        img_id = example[\"img_id\"]\n",
        "        img_path = example[\"img_path\"]\n",
        "        img = cv2.imread(img_path, -1) # (shape: (1024, 2048, 3))\n",
        "\n",
        "        # normalize the img (with the mean and std for the pretrained ResNet):\n",
        "        img = img/255.0\n",
        "        img = img - np.array([0.485, 0.456, 0.406])\n",
        "        img = img/np.array([0.229, 0.224, 0.225]) # (shape: (512, 1024, 3))\n",
        "        img = np.transpose(img, (2, 0, 1)) # (shape: (3, 512, 1024))\n",
        "        img = img.astype(np.float32)\n",
        "\n",
        "        # convert numpy -> torch:\n",
        "        img = torch.from_numpy(img) # (shape: (3, 512, 1024))\n",
        "        #label_img = torch.from_numpy(label_img) # (shape: (512, 1024))\n",
        "        print(img_id)\n",
        "        return (img, img_id)\n",
        "\n",
        "    def __len__(self):\n",
        "        return self.num_examples\n"
      ],
      "execution_count": 0,
      "outputs": []
    },
    {
      "cell_type": "code",
      "metadata": {
        "colab_type": "code",
        "id": "oFNeJyMDo3O7",
        "outputId": "66d1f965-2f0f-4230-a693-1cb73ff46550",
        "colab": {
          "base_uri": "https://localhost:8080/",
          "height": 34
        }
      },
      "source": [
        "val_dataset = DatasetVal(input_path=input_dir, output_path=output_dir)"
      ],
      "execution_count": 0,
      "outputs": [
        {
          "output_type": "stream",
          "text": [
            "2 images were identified from the input directory.\n"
          ],
          "name": "stdout"
        }
      ]
    },
    {
      "cell_type": "code",
      "metadata": {
        "id": "Vr1K5FCEa0LQ",
        "colab_type": "code",
        "outputId": "76e52539-fcb3-4714-bb4b-0404ca18365c",
        "colab": {
          "base_uri": "https://localhost:8080/",
          "height": 86
        }
      },
      "source": [
        "val_dataset.examples"
      ],
      "execution_count": 0,
      "outputs": [
        {
          "output_type": "execute_result",
          "data": {
            "text/plain": [
              "[{'img_id': 'street2',\n",
              "  'img_path': 'deeplabv3-semantic-scene-segmentation/input/street2.jpg'},\n",
              " {'img_id': 'street1',\n",
              "  'img_path': 'deeplabv3-semantic-scene-segmentation/input/street1.jpg'}]"
            ]
          },
          "metadata": {
            "tags": []
          },
          "execution_count": 49
        }
      ]
    },
    {
      "cell_type": "code",
      "metadata": {
        "colab_type": "code",
        "id": "KTeLB2Z8pCBw",
        "colab": {}
      },
      "source": [
        "val_loader = torch.utils.data.DataLoader(dataset=val_dataset,\n",
        "                                         batch_size=1, shuffle=False,\n",
        "                                         num_workers=1)"
      ],
      "execution_count": 0,
      "outputs": []
    },
    {
      "cell_type": "code",
      "metadata": {
        "colab_type": "code",
        "id": "dp03CO2hNKP4",
        "outputId": "2303f8c7-50b2-42d4-ce61-9f310c0e4390",
        "colab": {
          "base_uri": "https://localhost:8080/",
          "height": 1000
        }
      },
      "source": [
        "network.eval()"
      ],
      "execution_count": 0,
      "outputs": [
        {
          "output_type": "execute_result",
          "data": {
            "text/plain": [
              "DeepLabV3(\n",
              "  (resnet): ResNet_BasicBlock_OS8(\n",
              "    (resnet): Sequential(\n",
              "      (0): Conv2d(3, 64, kernel_size=(7, 7), stride=(2, 2), padding=(3, 3), bias=False)\n",
              "      (1): BatchNorm2d(64, eps=1e-05, momentum=0.1, affine=True, track_running_stats=True)\n",
              "      (2): ReLU(inplace=True)\n",
              "      (3): MaxPool2d(kernel_size=3, stride=2, padding=1, dilation=1, ceil_mode=False)\n",
              "      (4): Sequential(\n",
              "        (0): BasicBlock(\n",
              "          (conv1): Conv2d(64, 64, kernel_size=(3, 3), stride=(1, 1), padding=(1, 1), bias=False)\n",
              "          (bn1): BatchNorm2d(64, eps=1e-05, momentum=0.1, affine=True, track_running_stats=True)\n",
              "          (relu): ReLU(inplace=True)\n",
              "          (conv2): Conv2d(64, 64, kernel_size=(3, 3), stride=(1, 1), padding=(1, 1), bias=False)\n",
              "          (bn2): BatchNorm2d(64, eps=1e-05, momentum=0.1, affine=True, track_running_stats=True)\n",
              "        )\n",
              "        (1): BasicBlock(\n",
              "          (conv1): Conv2d(64, 64, kernel_size=(3, 3), stride=(1, 1), padding=(1, 1), bias=False)\n",
              "          (bn1): BatchNorm2d(64, eps=1e-05, momentum=0.1, affine=True, track_running_stats=True)\n",
              "          (relu): ReLU(inplace=True)\n",
              "          (conv2): Conv2d(64, 64, kernel_size=(3, 3), stride=(1, 1), padding=(1, 1), bias=False)\n",
              "          (bn2): BatchNorm2d(64, eps=1e-05, momentum=0.1, affine=True, track_running_stats=True)\n",
              "        )\n",
              "      )\n",
              "      (5): Sequential(\n",
              "        (0): BasicBlock(\n",
              "          (conv1): Conv2d(64, 128, kernel_size=(3, 3), stride=(2, 2), padding=(1, 1), bias=False)\n",
              "          (bn1): BatchNorm2d(128, eps=1e-05, momentum=0.1, affine=True, track_running_stats=True)\n",
              "          (relu): ReLU(inplace=True)\n",
              "          (conv2): Conv2d(128, 128, kernel_size=(3, 3), stride=(1, 1), padding=(1, 1), bias=False)\n",
              "          (bn2): BatchNorm2d(128, eps=1e-05, momentum=0.1, affine=True, track_running_stats=True)\n",
              "          (downsample): Sequential(\n",
              "            (0): Conv2d(64, 128, kernel_size=(1, 1), stride=(2, 2), bias=False)\n",
              "            (1): BatchNorm2d(128, eps=1e-05, momentum=0.1, affine=True, track_running_stats=True)\n",
              "          )\n",
              "        )\n",
              "        (1): BasicBlock(\n",
              "          (conv1): Conv2d(128, 128, kernel_size=(3, 3), stride=(1, 1), padding=(1, 1), bias=False)\n",
              "          (bn1): BatchNorm2d(128, eps=1e-05, momentum=0.1, affine=True, track_running_stats=True)\n",
              "          (relu): ReLU(inplace=True)\n",
              "          (conv2): Conv2d(128, 128, kernel_size=(3, 3), stride=(1, 1), padding=(1, 1), bias=False)\n",
              "          (bn2): BatchNorm2d(128, eps=1e-05, momentum=0.1, affine=True, track_running_stats=True)\n",
              "        )\n",
              "      )\n",
              "    )\n",
              "    (layer4): Sequential(\n",
              "      (0): BasicBlock(\n",
              "        (conv1): Conv2d(128, 256, kernel_size=(3, 3), stride=(1, 1), padding=(2, 2), dilation=(2, 2), bias=False)\n",
              "        (bn1): BatchNorm2d(256, eps=1e-05, momentum=0.1, affine=True, track_running_stats=True)\n",
              "        (conv2): Conv2d(256, 256, kernel_size=(3, 3), stride=(1, 1), padding=(2, 2), dilation=(2, 2), bias=False)\n",
              "        (bn2): BatchNorm2d(256, eps=1e-05, momentum=0.1, affine=True, track_running_stats=True)\n",
              "        (downsample): Sequential(\n",
              "          (0): Conv2d(128, 256, kernel_size=(1, 1), stride=(1, 1), bias=False)\n",
              "          (1): BatchNorm2d(256, eps=1e-05, momentum=0.1, affine=True, track_running_stats=True)\n",
              "        )\n",
              "      )\n",
              "      (1): BasicBlock(\n",
              "        (conv1): Conv2d(256, 256, kernel_size=(3, 3), stride=(1, 1), padding=(2, 2), dilation=(2, 2), bias=False)\n",
              "        (bn1): BatchNorm2d(256, eps=1e-05, momentum=0.1, affine=True, track_running_stats=True)\n",
              "        (conv2): Conv2d(256, 256, kernel_size=(3, 3), stride=(1, 1), padding=(2, 2), dilation=(2, 2), bias=False)\n",
              "        (bn2): BatchNorm2d(256, eps=1e-05, momentum=0.1, affine=True, track_running_stats=True)\n",
              "        (downsample): Sequential()\n",
              "      )\n",
              "    )\n",
              "    (layer5): Sequential(\n",
              "      (0): BasicBlock(\n",
              "        (conv1): Conv2d(256, 512, kernel_size=(3, 3), stride=(1, 1), padding=(4, 4), dilation=(4, 4), bias=False)\n",
              "        (bn1): BatchNorm2d(512, eps=1e-05, momentum=0.1, affine=True, track_running_stats=True)\n",
              "        (conv2): Conv2d(512, 512, kernel_size=(3, 3), stride=(1, 1), padding=(4, 4), dilation=(4, 4), bias=False)\n",
              "        (bn2): BatchNorm2d(512, eps=1e-05, momentum=0.1, affine=True, track_running_stats=True)\n",
              "        (downsample): Sequential(\n",
              "          (0): Conv2d(256, 512, kernel_size=(1, 1), stride=(1, 1), bias=False)\n",
              "          (1): BatchNorm2d(512, eps=1e-05, momentum=0.1, affine=True, track_running_stats=True)\n",
              "        )\n",
              "      )\n",
              "      (1): BasicBlock(\n",
              "        (conv1): Conv2d(512, 512, kernel_size=(3, 3), stride=(1, 1), padding=(4, 4), dilation=(4, 4), bias=False)\n",
              "        (bn1): BatchNorm2d(512, eps=1e-05, momentum=0.1, affine=True, track_running_stats=True)\n",
              "        (conv2): Conv2d(512, 512, kernel_size=(3, 3), stride=(1, 1), padding=(4, 4), dilation=(4, 4), bias=False)\n",
              "        (bn2): BatchNorm2d(512, eps=1e-05, momentum=0.1, affine=True, track_running_stats=True)\n",
              "        (downsample): Sequential()\n",
              "      )\n",
              "    )\n",
              "  )\n",
              "  (aspp): ASPP(\n",
              "    (conv_1x1_1): Conv2d(512, 256, kernel_size=(1, 1), stride=(1, 1))\n",
              "    (bn_conv_1x1_1): BatchNorm2d(256, eps=1e-05, momentum=0.1, affine=True, track_running_stats=True)\n",
              "    (conv_3x3_1): Conv2d(512, 256, kernel_size=(3, 3), stride=(1, 1), padding=(6, 6), dilation=(6, 6))\n",
              "    (bn_conv_3x3_1): BatchNorm2d(256, eps=1e-05, momentum=0.1, affine=True, track_running_stats=True)\n",
              "    (conv_3x3_2): Conv2d(512, 256, kernel_size=(3, 3), stride=(1, 1), padding=(12, 12), dilation=(12, 12))\n",
              "    (bn_conv_3x3_2): BatchNorm2d(256, eps=1e-05, momentum=0.1, affine=True, track_running_stats=True)\n",
              "    (conv_3x3_3): Conv2d(512, 256, kernel_size=(3, 3), stride=(1, 1), padding=(18, 18), dilation=(18, 18))\n",
              "    (bn_conv_3x3_3): BatchNorm2d(256, eps=1e-05, momentum=0.1, affine=True, track_running_stats=True)\n",
              "    (avg_pool): AdaptiveAvgPool2d(output_size=1)\n",
              "    (conv_1x1_2): Conv2d(512, 256, kernel_size=(1, 1), stride=(1, 1))\n",
              "    (bn_conv_1x1_2): BatchNorm2d(256, eps=1e-05, momentum=0.1, affine=True, track_running_stats=True)\n",
              "    (conv_1x1_3): Conv2d(1280, 256, kernel_size=(1, 1), stride=(1, 1))\n",
              "    (bn_conv_1x1_3): BatchNorm2d(256, eps=1e-05, momentum=0.1, affine=True, track_running_stats=True)\n",
              "    (conv_1x1_4): Conv2d(256, 20, kernel_size=(1, 1), stride=(1, 1))\n",
              "  )\n",
              ")"
            ]
          },
          "metadata": {
            "tags": []
          },
          "execution_count": 51
        }
      ]
    },
    {
      "cell_type": "code",
      "metadata": {
        "colab_type": "code",
        "id": "MftPJ76RpC4H",
        "outputId": "ea35bdc8-7f85-4731-fd28-5fcafc17f924",
        "colab": {
          "base_uri": "https://localhost:8080/",
          "height": 140
        }
      },
      "source": [
        "count = 0\n",
        "\n",
        "#produce labeled image\n",
        "for step, (imgs, img_ids) in enumerate(val_loader):\n",
        "    #print(img_ids)\n",
        "    with torch.no_grad(): # (corresponds to setting volatile=True in all variables, this is done during inference to reduce memory consumption)\n",
        "        imgs = Variable(imgs).cuda() # (shape: (batch_size, 3, img_h, img_w))\n",
        "        outputs = network(imgs) # (shape: (batch_size, num_classes, img_h, img_w))\n",
        "  \n",
        "        ########################################################################\n",
        "        # save data for visualization:\n",
        "        ########################################################################\n",
        "        \n",
        "        outputs = outputs.data.cpu().numpy() # (shape: (batch_size, num_classes, img_h, img_w))\n",
        "        pred_label_imgs = np.argmax(outputs, axis=1) # (shape: (batch_size, img_h, img_w))\n",
        "        pred_label_imgs = pred_label_imgs.astype(np.uint8)\n",
        "\n",
        "        for i in range(pred_label_imgs.shape[0]):\n",
        "            if i == 0:\n",
        "                pred_label_img = pred_label_imgs[i] # (shape: (img_h, img_w))\n",
        "                img_id = img_ids[i]\n",
        "                img = imgs[i] # (shape: (3, img_h, img_w))\n",
        "\n",
        "                img = img.data.cpu().numpy()\n",
        "                img = np.transpose(img, (1, 2, 0)) # (shape: (img_h, img_w, 3))\n",
        "                img = img*np.array([0.229, 0.224, 0.225])\n",
        "                img = img + np.array([0.485, 0.456, 0.406])\n",
        "                img = img*255.0\n",
        "                img = img.astype(np.uint8)\n",
        "\n",
        "                pred_label_img_color = label_img_to_color(pred_label_img)\n",
        "                overlayed_img = 0.35*img + 0.65*pred_label_img_color\n",
        "                overlayed_img = overlayed_img.astype(np.uint8)\n",
        "                #producing original predicted images\n",
        "                cv2.imwrite(val_dataset.output_dir + \"/\" + img_id + \"_pred_label.png\", pred_label_img )\n",
        "                \n",
        "                # produce debugging info for the first 10 images\n",
        "                if count < 100:\n",
        "                    #producing colored predicted images\n",
        "                    cv2.imwrite(val_dataset.debug_dir + \"/\" + img_id + \"_pred_label_colorimg.png\", pred_label_img_color )\n",
        "                    #producing overlayed images\n",
        "                    cv2.imwrite(val_dataset.debug_dir + \"/\" + img_id + \"_overlayed.png\", overlayed_img)\n",
        "                \n",
        "\n",
        "        ########################################################################\n",
        "        # quick counting\n",
        "        ########################################################################\n",
        "        count += 1\n",
        "                "
      ],
      "execution_count": 0,
      "outputs": [
        {
          "output_type": "stream",
          "text": [
            "street2\n",
            "street1\n"
          ],
          "name": "stdout"
        },
        {
          "output_type": "stream",
          "text": [
            "/usr/local/lib/python3.6/dist-packages/torch/nn/functional.py:2796: UserWarning: nn.functional.upsample is deprecated. Use nn.functional.interpolate instead.\n",
            "  warnings.warn(\"nn.functional.upsample is deprecated. Use nn.functional.interpolate instead.\")\n",
            "/usr/local/lib/python3.6/dist-packages/torch/nn/functional.py:2973: UserWarning: Default upsampling behavior when mode=bilinear is changed to align_corners=False since 0.4.0. Please specify align_corners=True if the old behavior is desired. See the documentation of nn.Upsample for details.\n",
            "  \"See the documentation of nn.Upsample for details.\".format(mode))\n"
          ],
          "name": "stderr"
        }
      ]
    },
    {
      "cell_type": "code",
      "metadata": {
        "colab_type": "code",
        "id": "HC9-m9Bz3AJN",
        "colab": {}
      },
      "source": [
        "# generate the summary csv file from the labeled files\n",
        "import glob\n",
        "output_files = glob.glob(val_dataset.output_dir + \"/*pred_label.png\")"
      ],
      "execution_count": 0,
      "outputs": []
    },
    {
      "cell_type": "code",
      "metadata": {
        "id": "_oKt265Qa0Li",
        "colab_type": "code",
        "outputId": "dec1e606-8be2-4ecb-a804-50ae5dae1264",
        "colab": {
          "base_uri": "https://localhost:8080/",
          "height": 51
        }
      },
      "source": [
        "print(val_dataset.output_dir)\n",
        "print(output_files)"
      ],
      "execution_count": 0,
      "outputs": [
        {
          "output_type": "stream",
          "text": [
            "output\n",
            "['output/street2_pred_label.png', 'output/street1_pred_label.png']\n"
          ],
          "name": "stdout"
        }
      ]
    },
    {
      "cell_type": "code",
      "metadata": {
        "id": "GgCkbPpXa0Lk",
        "colab_type": "code",
        "colab": {}
      },
      "source": [
        "# deeplabv3 - cityscape labels\n",
        "\n",
        "class_names = ['pcnt_road', 'pcnt_sidewalk', 'pcnt_building', 'pcnt_wall', 'pcnt_fence',\n",
        "    'pcnt_pole', 'pcnt_traffic_light', 'pcnt_traffic_sign', 'pcnt_vegetation', 'pcnt_terrain',\n",
        "    'pcnt_sky', 'pcnt_person', 'pcnt_rider', 'pcnt_car', 'pcnt_truck',\n",
        "    'pcnt_bus', 'pcnt_train', 'pcnt_motorcycle', 'pcnt_bicycle', 'pcnt_unlabeled']\n",
        "num_class = len(class_names)\n"
      ],
      "execution_count": 0,
      "outputs": []
    },
    {
      "cell_type": "code",
      "metadata": {
        "id": "PfQXKw2ua0Lo",
        "colab_type": "code",
        "outputId": "f2b6ed8d-f144-4119-f3d0-3d8457daf1d8",
        "colab": {
          "base_uri": "https://localhost:8080/",
          "height": 71
        }
      },
      "source": [
        "# quick check\n",
        "\n",
        "file = output_files[0]\n",
        "\n",
        "print(os.path.basename(file).split('_pred_label.png')[0])\n",
        "\n",
        "pred_label_img = cv2.imread(file, -1)\n",
        "# count how many pixels in pred_label_img which are of object class trainId:\n",
        "pixel_ratio = np.zeros(num_class)\n",
        "for cate_id in range(num_class):\n",
        "    pixel_ratio[cate_id] = np.sum(np.equal(pred_label_img, cate_id))/pred_label_img.size\n",
        "\n",
        "print(pixel_ratio.tolist())"
      ],
      "execution_count": 0,
      "outputs": [
        {
          "output_type": "stream",
          "text": [
            "street2\n",
            "[0.14567489801864802, 0.06896124708624708, 0.434604458041958, 0.0, 0.01633158508158508, 0.037807765151515155, 0.001757357226107226, 0.011531177156177156, 0.2095807837995338, 0.0036276223776223774, 0.02861487470862471, 0.014213650932400932, 0.000628277972027972, 0.001065340909090909, 0.00044434731934731936, 0.0, 0.0, 0.00030048076923076925, 0.002576850233100233, 0.022279283216783217]\n"
          ],
          "name": "stdout"
        }
      ]
    },
    {
      "cell_type": "code",
      "metadata": {
        "colab_type": "code",
        "id": "WUoEhCbkDaeV",
        "colab": {}
      },
      "source": [
        "#save category ratios to csv file\n",
        "with open('00_object_ratios.csv', 'w') as output:\n",
        "    writer = csv.writer(output)\n",
        "    writer.writerow(['image_name'] + class_names)\n",
        "    \n",
        "    for file in output_files:\n",
        "        img_name = os.path.basename(file).split('_pred_label.png')[0]\n",
        "        pred_label_img = cv2.imread(file, -1)\n",
        "        \n",
        "        # count how many pixels in pred_label_img which are of object class trainId:\n",
        "        pixel_ratio = np.zeros(num_class)\n",
        "        for cate_id in range(num_class):\n",
        "            pixel_ratio[cate_id] = np.sum(np.equal(pred_label_img, cate_id))/pred_label_img.size\n",
        "        \n",
        "        # write to the csv file\n",
        "        writer.writerow([img_name] + pixel_ratio.tolist())\n"
      ],
      "execution_count": 0,
      "outputs": []
    },
    {
      "cell_type": "code",
      "metadata": {
        "id": "IRqBjztia0Ly",
        "colab_type": "code",
        "outputId": "873929b0-0884-4c60-a592-1056a7e64afd",
        "colab": {
          "base_uri": "https://localhost:8080/",
          "height": 51
        }
      },
      "source": [
        "!ls"
      ],
      "execution_count": 0,
      "outputs": [
        {
          "output_type": "stream",
          "text": [
            "00_object_ratios.csv\t\t       images307      output\n",
            "deeplabv3-semantic-scene-segmentation  images307.zip  sample_data\n"
          ],
          "name": "stdout"
        }
      ]
    },
    {
      "cell_type": "code",
      "metadata": {
        "id": "pW81VSkeRsvl",
        "colab_type": "code",
        "colab": {}
      },
      "source": [
        "from google.colab import files\n",
        "files.download('00_object_ratios.csv')"
      ],
      "execution_count": 0,
      "outputs": []
    },
    {
      "cell_type": "code",
      "metadata": {
        "id": "PdsSzUsSR0Fx",
        "colab_type": "code",
        "colab": {}
      },
      "source": [
        ""
      ],
      "execution_count": 0,
      "outputs": []
    }
  ]
}